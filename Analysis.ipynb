{
 "cells": [
  {
   "cell_type": "markdown",
   "id": "ffef5c98",
   "metadata": {},
   "source": [
    "# Rigorous Thermodynamic Decomposition of Salt Effects on the Polymerization of Polyethylene Glycol\n",
    "Stefan Hervø-Hansen<sup>a,*</sup>, Jan Heyda<sup>b,*</sup>, and Nobuyuki Matubayasi<sup>a,*</sup>.<br><br>\n",
    "<sup>a</sup> Division of Chemical Engineering, Graduate School of Engineering Science, Osaka University, Toyonaka, Osaka 560-8531, Japan.<br>\n",
    "<sup>b</sup> Department of Physical Chemistry, University of Chemistry and Technology, Prague CZ-16628, Czech Republic.<br>\n",
    "<sup>*</sup> To whom correspondence may be addressed: stefan@cheng.es.osaka-u.ac.jp, heydaj@vscht.cz, and nobuyuki@cheng.es.osaka-u.ac.jp.\n",
    "\n",
    "## Part 2: Analysis\n",
    "\n",
    "\n",
    "### Introduction\n",
    "\n",
    "\n",
    "### Methods & Materials\n",
    "Molecular dynamics simulations are conducted using the openMM (7.7.0)[<sup>2</sup>](#fn2) software package modded with the openmmtools[<sup>3</sup>](#fn3) and parmed[<sup>4</sup>](#fn4) packages. For the simulation of PEG a CHARMM derived force field (C35r) was utilized, which has previously been able to reproduce hydrodynamic radii and shape anisotropy of PEG.[<sup>5</sup>](#fn5) The PEG force field was employed in combination with the SPC/E force field for water[<sup>6</sup>](#fn6) and optimized ion parameters for sodium thiocyanate and sodium chloride.\n",
    "The isothermal-isobaric ensemble will be sampled using a combination of a geodesic Langevin integrator[<sup>8</sup>](#fn8) and a Monte Carlo barostat[<sup>9,</sup>](#fn9)[<sup>10</sup>](#fn10). The trajectories was analyzed using MDtraj[<sup>11</sup>](#fn11) for structural properties, while ERmod[<sup>12</sup>](#fn12) be utilized for the calculation of solvation free energies and can be found in the [Part 2 Jupyter notebook](Analysis.ipynb).\n",
    "\n",
    "### References\n",
    "2. <span id=\"fn2\"> Eastman P, et al. (2017) OpenMM 7: Rapid development of high performance algorithms for molecular dynamics. PLOS Computational Biology 13(7):e1005659.</span><br>\n",
    "3. <span id=\"fn3\"> https://github.com/choderalab/openmmtools</span><br>\n",
    "4. <span id=\"fn4\"> https://github.com/ParmEd/ParmEd </span><br>\n",
    "5. <span id=\"fn5\"> Lee H, Venable RM, Mackerell Jr AD, Pastor RW (2008) Molecular dynamics studies of polyethylene oxide and polyethylene glycol: hydrodynamic radius and shape anisotropy. Biophys J. 95(4):1590-1599. </span><br>\n",
    "6. <span id=\"fn6\"> Berendsen HJC, Grigera JR, Straatsma TP (1987) The missing term in effective pair potentials. The Journal of Physical Chemistry 91(24):6269–6271. </span><br>\n",
    "8. <span id=\"fn8\"> Leimkuhler B, Matthews C (2016) Efficient molecular dynamics using geodesic integration and solvent–solute splitting. Proceedings of the Royal Society A: Mathematical, Physical and Engineering Sciences 472(2189):20160138. </span><br>\n",
    "9. <span id=\"fn9\"> Chow K-H, Ferguson DM (1995) Isothermal-isobaric molecular dynamics simulations with Monte Carlo volume sampling. Computer Physics Communications 91(1–3):283–289. </span><br>\n",
    "10. <span id=\"fn10\"> Åqvist J, Wennerström P, Nervall M, Bjelic S, Brandsdal BO (2004) Molecular dynamics simulations of water and biomolecules with a Monte Carlo constant pressure algorithm. Chemical Physics Letters 384(4–6):288–294. </span><br>\n",
    "11. <span id=\"fn11\"> McGibbon RT, et al. (2015) MDTraj: A Modern Open Library for the Analysis of Molecular Dynamics Trajectories. Biophysical Journal 109(8):1528–1532. </span><br>\n",
    "12. <span id=\"fn12\"> Sakuraba S, Matubayasi N (2014) Ermod: Fast and versatile computation software for solvation free energy with approximate theory of solutions. Journal of Computational Chemistry 35(21):1592–1608. </span><br>\n",
    "\n",
    "\n",
    "## Import of Python Modules & Auxiliary Functions"
   ]
  },
  {
   "cell_type": "code",
   "execution_count": 1,
   "id": "828e574c",
   "metadata": {},
   "outputs": [
    {
     "name": "stderr",
     "output_type": "stream",
     "text": [
      "Warning: importing 'simtk.openmm' is deprecated.  Import 'openmm' instead.\n"
     ]
    },
    {
     "name": "stdout",
     "output_type": "stream",
     "text": [
      "/work/1/ERCINCR/stefan/PEO-Solubility\n"
     ]
    },
    {
     "data": {
      "text/plain": [
       "<Figure size 432x288 with 0 Axes>"
      ]
     },
     "metadata": {},
     "output_type": "display_data"
    }
   ],
   "source": [
    "#Notebook dependent libs\n",
    "import math\n",
    "import numpy as np\n",
    "import matplotlib.pyplot as plt\n",
    "import matplotlib.patches as mpatches\n",
    "import matplotlib.lines as mlines\n",
    "from matplotlib.ticker import (MultipleLocator, AutoMinorLocator)\n",
    "import mdtraj as md\n",
    "import parmed as pmd\n",
    "import os, time, re, yaml, string\n",
    "import scipy.stats as stats\n",
    "from uncertainties import unumpy\n",
    "\n",
    "from Auxiliary import fessa\n",
    "plt.set_cmap('fessa')\n",
    "\n",
    "kcal_to_kT = 1.688 # Assuming 298.15 K\n",
    "\n",
    "ERMODHOME = '/work/ERCINCR/stefan/ermod-0.3.7'\n",
    "homedir = !pwd\n",
    "homedir = homedir[0]\n",
    "print(homedir)"
   ]
  },
  {
   "cell_type": "markdown",
   "id": "2ee47ddc",
   "metadata": {},
   "source": [
    "### Simulation settings"
   ]
  },
  {
   "cell_type": "code",
   "execution_count": 2,
   "id": "70032e2e",
   "metadata": {},
   "outputs": [],
   "source": [
    "# State of simulations, (outFreq is steps per frame)\n",
    "states = {                                                               \n",
    "          'sol': {'Nsteps': 50000000, 'OutFreq': 2500, 'DO_SIMULATED_TEMPERING': False}, # 200 nanoseconds, 20000 frames\n",
    "          'ref': {'Nsteps': 12500000, 'OutFreq': 2500, 'DO_SIMULATED_TEMPERING': False}, # 50 nanoseconds,   5000 frames\n",
    "         }\n",
    "\n",
    "\n",
    "# Simulated Tempering Settings\n",
    "ST_settings = {'numTemperatures': 15,        # Number of temperatures with exponential spacing\n",
    "               'minTemperature': 298.15,     # Minimum temperature. cf. Langevin integrator temperature\n",
    "               'maxTemperature': 450,        # Maximum temperature. Aim to unfold PEO\n",
    "               'reportInterval': 2500,       # Reporting interval of weights and temperature.\n",
    "               'reportFile': 'Tempering.dat' # Name of the file where the data are stores.\n",
    "              }\n",
    "\n",
    "nmers = [2, 4, 6, 8, 15, 36]\n",
    "\n",
    "salts = {\n",
    "         'No_salt': {'Cation': 'No_', 'Anion': 'salt' },\n",
    "         'NaCl'   : {'Cation': 'Na' , 'Anin': 'Cl'   },\n",
    "#         'CsCl'   : {'Cation': 'Cs' , 'Anion': 'Cl'   },\n",
    "         'NaSCN'  : {'Cation': 'Na' , 'Anion': 'SCN'  },\n",
    "#         'CsSCN'  : {'Cation': 'Cs' , 'Anion': 'SCN'  },\n",
    "        }\n",
    "\n",
    "# Approximate concentrations of salts with\n",
    "concentrations = {\n",
    "#                  0.00: {'PEG': 1, 'Water': 10000, 'Cation': 0,   'Anion': 0},\n",
    "                  1.00: {'PEG': 1, 'Water': 10000, 'Cation': 109, 'Anion': 109},\n",
    "#                  2.00: {'PEG': 1, 'Water': 10000, 'Cation': 218, 'Anion': 218},\n",
    "                 }\n",
    "\n",
    "#* Calculated by hand *#\n",
    "# Cube length ≈ 66.95 Ångstroms. Round up to 70 Å and then adjust to correct volume with barostat."
   ]
  },
  {
   "cell_type": "markdown",
   "id": "e24b3138",
   "metadata": {},
   "source": [
    "## Analysis\n",
    "### Prepare ERmod analysis\n",
    "<img style=\"float: right;width:319.5px;height:312.5px;\" src=\"Figures/ermod.png\" title=\"ERmod analysis flow\" >\n",
    "\n",
    "The determination of solvation free energies and chemical potentials though the ERmod software is conducted in two stages as illustrated in the figure. First is the determination of the energy distribution functions from the simulation trajectories obtained from molecular dynamics using the subprogram `ermod`. Second is the solvation free energy is determined from the energy distribution functions though an approximate functional using the subprogram `slvfe`.\n",
    "\n",
    "Documentation for the parameter file `parameters_er` which determines how the `ermod` subprogram runs can be found [here](https://sourceforge.net/p/ermod/wiki/parameters-ermod03/). In the python code below it can be noted many of the parameters has been given the keyword `[correct]`, these settings are dependent on the simulation settings and or the software being used and are thus recommended not to be changed if using the openMM setup above. The parameters given the keyword `[to be set]` are settings either collected from the output of the openMM script or set by the user, in specific the values for `maxins` and `engdiv` should be given by the user are given the default value of 1000 and 5 respectively.\n",
    "\n",
    "Documentation for the parameter file `parameters_fe` which determines how the `slvfe` subprogram runs can be found [here](https://sourceforge.net/p/ermod/wiki/parameters-slvfe/). It is recommended not to change the parameters in this file with the exception of the temperature if conducting simulations at other temperatures than 298.15 Kelvin, and the volume. In the code below the average volume input is calculated as an average volume from the two ensemble volume averages."
   ]
  },
  {
   "cell_type": "code",
   "execution_count": 3,
   "id": "ff2064c5",
   "metadata": {},
   "outputs": [],
   "source": [
    "# ERmod settings\n",
    "state_parameters = {\n",
    "    'refs': {'state': 3, 'Ninserts': 200, 'Ndivisions': 5},\n",
    "    'soln': {'state': 1, 'Ninserts': 200, 'Ndivisions': 10}\n",
    "}\n",
    "confEnsemble = 'solvated'   # Select the conformational ensemble to be inserted: 'solvated' or 'vacuum'\n",
    "\n",
    "ermod_script = \"\"\"\n",
    "&ene_param\n",
    "      slttype = {state},     ! Choose system; 1: Solution system  2,3: Reference                     [to be set]\n",
    "      boxshp = 1,            ! Boxtype                                                               [correct]   \n",
    "      estype = 2,            ! Ensemble; 1: NVT   2: NPT                                             [correct]   \n",
    "      inptemp = 298.15,      ! Temperature (in Kelvin)                                               [correct]   \n",
    "      ljformat = 5,          ! LJ form                                                               [correct]   \n",
    "      cmbrule = 1,           ! Combination rule                                                      [correct]   \n",
    "      ljswitch = 1,          ! Switching function for smooth LJ truncation                           [correct]   \n",
    "      upljcut = 12,          ! Upper limit for LJ cutoff switching function (in Angstrom)            [correct]   \n",
    "      lwljcut = 10,          ! Lower limit for LJ cutoff switching function (in Angstrom)            [correct]   \n",
    "      cltype = 2,            ! Treatment of Coulomb interaction (2=PME)                              [correct]   \n",
    "      elecut = 12.0,         ! Cutoff of the real-space electrostatic interaction (in angstrom)      [correct]   \n",
    "      ewtoler = 0.00001,     ! Error tolerance in Ewald                                              [correct]   \n",
    "      splodr = 5,            ! Order of spline function used in PME                                  [correct]   \n",
    "      ms1max = {PMEnodes_x}, ! Number of meshes in PME (x)                                           [to be set] \n",
    "      ms2max = {PMEnodes_y}, ! Number of meshes in PME (y)                                           [to be set] \n",
    "      ms3max = {PMEnodes_z}, ! Number of meshes in PME (z)                                           [to be set] \n",
    "      maxins = {Ninserts},   ! Number of inserts (chosen freely, for reference ONLY)                 [to be set] \n",
    "      engdiv = {Ndivisions}, ! Number of divisions of the total simulation length (chosen freely)    [to be set] \n",
    "/\n",
    "&hist\n",
    "      eclbin=5.0e-2, ecfbin=2.0e-3, ec0bin=2.0e-4, finfac=10.0e0,\n",
    "      ecdmin=-120.00, ecfmns=-0.20e0, ecdcen=0.0e0, eccore=30.0e0,\n",
    "      ecdmax=1.0e11, pecore=200\n",
    "/\n",
    "\"\"\"\n",
    "    \n",
    "slvfe_script = \"\"\"\n",
    "&fevars\n",
    "clcond    = \"merge\",       ! Calculation type, \"merge\" / \"basic\" / \"range\"\n",
    "numsln    = {Nsol_blocks}, ! Number of trajectory blocks in solution system\n",
    "numref    = {Nref_blocks}, ! Number of trajectory blocks in reference system\n",
    "numdiv    = {Nsol_blocks}, ! Number of division for statistics, usually set equal to numsln\n",
    "avevolume = {avgV},        ! Average volume sampled in simulation (in Angstrom^3)\n",
    "\n",
    "ljlrc     = 'yes',         ! Long-range correction of the Lennard-Jones interaction (avevolume must be specified)\n",
    "uvread    = \"yes\",         ! \"not\" if average solute-solvent energy is calculated from engsln, instead of aveuv.tt\n",
    "slfslt    = \"yes\",         ! \"not\" if the solute self energy is not read\n",
    "infchk    = \"yes\",         ! Enable error analysis for the logarithmic-mesh part\n",
    "inptemp   = 298.15,        ! Input Temperature in Kelvin\n",
    "cumuint   = 'yes',         ! Enable running integral calculations.\n",
    "/\n",
    "\"\"\""
   ]
  },
  {
   "cell_type": "markdown",
   "id": "4429abbc",
   "metadata": {},
   "source": [
    "### Generate ERmod Files\n",
    "The following cell is fairly complicated and uses a mix of bash and python. While ERmod provides tools to assist in the construction of input files based on many popular molecular dynamics packages log files openMM is still yet to be supported. In the following we manually create the files. The steps are as follow:\n",
    "1. Use the ERmod's `gen_structure` script to generate non-complete input scripts as well as the folders `refs` and `soln` containing pair-energy distributions at $\\lambda=0$ and $\\lambda=1$ respectively.\n",
    "2. For soln and refs: Construct a `parameter_er` file as previously described, with updated PME parameters.\n",
    "3. For soln and refs: Edit the MDinfo file containing the number of frames in the solution and reference state.\n",
    "4. For soln and refs: Create a symlink named `HISTORY` linking to the joint trajectory for the solution and reference state.\n",
    "5. For refs: Create a symlink named `SltConf` linking to the vacuum trajectory of caffeine.\n",
    "6. Create the `parameters_fe` file with the main edit being the average volume sampled at $\\lambda=1$ for long-range correction of Lennard-Jones interactions."
   ]
  },
  {
   "cell_type": "code",
   "execution_count": 4,
   "id": "dd9c568b",
   "metadata": {
    "scrolled": true
   },
   "outputs": [
    {
     "name": "stdout",
     "output_type": "stream",
     "text": [
      "Segment names in topology file:\n",
      "\n",
      "1: PGT_PGH\n",
      "2: Cl\n",
      "3: Na\n",
      "4: HOH\n",
      "\n",
      "Which segments are solutes?\n",
      "Specify as numbers or residue names:\n",
      "(for multiple choice please specify as comma-separated list) \n",
      "Wrote ERmod analysis files to /work/1/ERCINCR/stefan/PEO-Solubility/Simulations/PEG2mer/NaCl/1.00\n",
      "Segment names in topology file:\n",
      "\n",
      "1: PGT_PGM_PGH\n",
      "2: Cl\n",
      "3: Na\n",
      "4: HOH\n",
      "\n",
      "Which segments are solutes?\n",
      "Specify as numbers or residue names:\n",
      "(for multiple choice please specify as comma-separated list) \n",
      "Wrote ERmod analysis files to /work/1/ERCINCR/stefan/PEO-Solubility/Simulations/PEG4mer/NaCl/1.00\n",
      "Segment names in topology file:\n",
      "\n",
      "1: PGT_PGM_PGH\n",
      "2: Cl\n",
      "3: Na\n",
      "4: HOH\n",
      "\n",
      "Which segments are solutes?\n",
      "Specify as numbers or residue names:\n",
      "(for multiple choice please specify as comma-separated list) \n",
      "Wrote ERmod analysis files to /work/1/ERCINCR/stefan/PEO-Solubility/Simulations/PEG6mer/NaCl/1.00\n",
      "Segment names in topology file:\n",
      "\n",
      "1: PGT_PGM_PGH\n",
      "2: Cl\n",
      "3: Na\n",
      "4: HOH\n",
      "\n",
      "Which segments are solutes?\n",
      "Specify as numbers or residue names:\n",
      "(for multiple choice please specify as comma-separated list) \n",
      "Wrote ERmod analysis files to /work/1/ERCINCR/stefan/PEO-Solubility/Simulations/PEG8mer/NaCl/1.00\n",
      "Segment names in topology file:\n",
      "\n",
      "1: PGT_PGM_PGH\n",
      "2: Cl\n",
      "3: Na\n",
      "4: HOH\n",
      "\n",
      "Which segments are solutes?\n",
      "Specify as numbers or residue names:\n",
      "(for multiple choice please specify as comma-separated list) \n",
      "Wrote ERmod analysis files to /work/1/ERCINCR/stefan/PEO-Solubility/Simulations/PEG15mer/NaCl/1.00\n",
      "Segment names in topology file:\n",
      "\n",
      "1: PGT_PGM_PGH\n",
      "2: Cl\n",
      "3: Na\n",
      "4: HOH\n",
      "\n",
      "Which segments are solutes?\n",
      "Specify as numbers or residue names:\n",
      "(for multiple choice please specify as comma-separated list) \n",
      "Wrote ERmod analysis files to /work/1/ERCINCR/stefan/PEO-Solubility/Simulations/PEG36mer/NaCl/1.00\n"
     ]
    }
   ],
   "source": [
    "%cd -q $homedir\n",
    "for nmer in nmers:\n",
    "    nmerdir = 'PEG{}mer'.format(nmer)\n",
    "    for saltdir, salt in salts.items():\n",
    "        for conc, Nparticles in concentrations.items():\n",
    "            concdir = '{0:.2f}'.format(conc)\n",
    "            if conc == 0 and saltdir == 'No_salt':\n",
    "                WORKDIR = '{homedir}/Simulations/{nmerdir}/{saltdir}'.format(homedir=homedir, nmerdir=nmerdir, saltdir=saltdir)\n",
    "            elif conc != 0 and saltdir == 'No_salt':\n",
    "                continue\n",
    "            else:\n",
    "                WORKDIR = '{homedir}/Simulations/{nmerdir}/{saltdir}/{concdir}'.format(homedir=homedir, nmerdir=nmerdir, saltdir=saltdir, concdir=concdir)\n",
    "            %cd -q $WORKDIR\n",
    "            \n",
    "            topname = 'PEG_{nmer}_{salt}_hydrated_sol.parm7'.format(nmer=nmer, salt=saltdir)\n",
    "            !echo 1 | /usr/bin/python2 $ERMODHOME/tools/AMBER/gen_structure --top $topname\n",
    "            \n",
    "            PEG = pmd.load_file('PEG_{nmer}_{salt}_hydrated_sol.pdb'.format(nmer=nmer, salt=saltdir))\n",
    "            PEG.strip(':HOH')\n",
    "\n",
    "            #########\n",
    "            # ERMOD #\n",
    "            #########\n",
    "            for ermodstate in ['soln', 'refs']:\n",
    "                %cd -q $WORKDIR/$ermodstate\n",
    "        \n",
    "                with open('../run_{}.out'.format(ermodstate[:3]), 'r') as logfile:\n",
    "                    lines = logfile.readlines()\n",
    "                logfile.close()\n",
    "                index = [idx for idx, s in enumerate(lines) if 'PARTICLE MESH EWALD PARAMETERS' in s][0]\n",
    "                PME_spacing = re.findall(\"([0-9]+[,.]+[0-9]+)\", lines[index+1])\n",
    "                N_gridpoints = (*re.findall(\"([0-9]+)\", lines[index+2]),\n",
    "                                *re.findall(\"([0-9]+)\", lines[index+3]),\n",
    "                                *re.findall(\"([0-9]+)\", lines[index+4]))\n",
    "        \n",
    "                parameters = state_parameters[ermodstate]\n",
    "                with open('parameters_er', 'w') as f:\n",
    "                    f.write(ermod_script.format(state=parameters['state'], Ninserts=parameters['Ninserts'], Ndivisions=parameters['Ndivisions'],\n",
    "                                                PMEnodes_x=N_gridpoints[0], PMEnodes_y=N_gridpoints[1], PMEnodes_z=N_gridpoints[2]))\n",
    "        \n",
    "                with open('MDinfo', 'r+') as f:\n",
    "                    lines = f.readlines()\n",
    "                    num_frames =  int(states[ermodstate[:3]]['Nsteps']/states[ermodstate[:3]]['OutFreq'])\n",
    "                    lines[0] = lines[0].replace('FRAMES', str(num_frames))\n",
    "                    f.seek(0)\n",
    "                    f.truncate()\n",
    "                    for line in lines:\n",
    "                        f.write(line)\n",
    "                f.close()\n",
    "                \n",
    "                with open('SltAtomGroup', 'w') as f:\n",
    "                    for residue in PEG.residues:\n",
    "                        indexes = []\n",
    "                        for atom in residue.atoms:\n",
    "                            indexes.append(atom.idx+1)\n",
    "                        f.write(\" \".join(map(str, indexes))+'\\n')\n",
    "                f.close()\n",
    "        \n",
    "                trajname = 'trajectory_{}.xtc'.format(ermodstate[:3])\n",
    "                !ln -s $WORKDIR/$trajname HISTORY\n",
    "        \n",
    "                if ermodstate == 'soln':\n",
    "                    traj = md.load_xtc('../{}'.format(trajname),\n",
    "                                       top='../PEG_{nmer}_{salt}_hydrated_sol.pdb'.format(nmer=nmer, salt=saltdir),\n",
    "                                       stride=200)\n",
    "                    atom_indices = traj.topology.select('resname PGH or resname PGM or resname PGT')\n",
    "                    traj.atom_slice(atom_indices, inplace=True)\n",
    "                    traj.save_xtc('../trajectory_sol_striped.xtc', force_overwrite=True)\n",
    "                if ermodstate == 'refs':\n",
    "                    if confEnsemble == 'solvated':\n",
    "                        !ln -s $WORKDIR/trajectory_sol_striped.xtc SltConf\n",
    "                    elif confEnsemble == 'vacuum':\n",
    "                        !ln -s $WORKDIR/../Solute/trajectory.xtc SltConf\n",
    "                    else:\n",
    "                        raise Exception(\"ERROR:`confEnsemble` must be either 'solvated' or 'vacuum'\")\n",
    "            \n",
    "            #########\n",
    "            # SLVFE #\n",
    "            #########\n",
    "            %cd -q $WORKDIR\n",
    "            vol_data = np.loadtxt('output_ref.dat', usecols=4, skiprows=1)\n",
    "            avgVolume = vol_data.mean()*1000\n",
    "            with open('parameters_fe', 'w') as f:\n",
    "                f.write(slvfe_script.format(Nsol_blocks=state_parameters['soln']['Ndivisions'],\n",
    "                                        Nref_blocks=state_parameters['refs']['Ndivisions'],\n",
    "                                        avgV=avgVolume))\n",
    "            print('Wrote ERmod analysis files to '+os.getcwd())"
   ]
  },
  {
   "cell_type": "markdown",
   "id": "472ea1cb",
   "metadata": {},
   "source": [
    "### Submit ERmod analysis\n",
    "Submit script for servers employing job scheduling. The below example is utilizing PBS (for a quick guide see [here](https://latisresearch.umn.edu/creating-a-PBS-script)). However the code below may be edited to utilize Slurm instead (documentation [here](https://slurm.schedmd.com)) by changing the variable `submit_script` and by executing the commands `!sbatch submit_ermod.pbs` instead of `qsub`."
   ]
  },
  {
   "cell_type": "code",
   "execution_count": 5,
   "id": "1b393371",
   "metadata": {},
   "outputs": [
    {
     "name": "stdout",
     "output_type": "stream",
     "text": [
      "Request 793866.nqsv submitted to queue: gen_S.\n",
      "Request 793867.nqsv submitted to queue: gen_S.\n",
      "Request 793868.nqsv submitted to queue: gen_S.\n",
      "Request 793869.nqsv submitted to queue: gen_S.\n",
      "Request 793870.nqsv submitted to queue: gen_S.\n",
      "Request 793871.nqsv submitted to queue: gen_S.\n"
     ]
    }
   ],
   "source": [
    "submit_script=\"\"\"#!/bin/bash\n",
    "#PBS -A ERCINCR             # Account\n",
    "#PBS -q gen_S               # Queue\n",
    "#PBS -b 1                   # 1 node\n",
    "#PBS -N ermod_{name}        # Job name\n",
    "#PBS -e ermod.err           # Error output\n",
    "#PBS -o ermod.out           # Output file name\n",
    "\n",
    "source ~/.bashrc\n",
    "source ~/.bash_profile\n",
    "\n",
    "export ERMOD=/work/ERCINCR/stefan/ermod-0.3.7\n",
    "export ERMOD_PLUGINS=/work/ERCINCR/stefan/ermod-0.3.7/vmdplugins/libexec\n",
    "\n",
    "PATH=$PATH:/work/ERCINCR/stefan/ermod-0.3.7\n",
    "export PATH\n",
    "\n",
    "sleep 13\n",
    "\n",
    "cd {path}\n",
    "\n",
    "# Calculate solvation energy\n",
    "# Solution step\n",
    "cd soln\n",
    "mpirun -np 24 ermod\n",
    "cd ..\n",
    "\n",
    "# Reference step\n",
    "cd refs\n",
    "mpirun -np 24 ermod\n",
    "cd ..\n",
    "\n",
    "slvfe\n",
    "\"\"\"\n",
    "\n",
    "%cd -q $homedir\n",
    "for nmer in nmers:\n",
    "    nmerdir = 'PEG{}mer'.format(nmer)\n",
    "    for saltdir, salt in salts.items():\n",
    "        for conc, Nparticles in concentrations.items():\n",
    "            concdir = '{0:.2f}'.format(conc)\n",
    "            if conc == 0 and saltdir == 'No_salt':\n",
    "                WORKDIR = '{homedir}/Simulations/{nmerdir}/{saltdir}'.format(homedir=homedir, nmerdir=nmerdir, saltdir=saltdir)\n",
    "            elif conc != 0 and saltdir == 'No_salt':\n",
    "                continue\n",
    "            else:\n",
    "                WORKDIR = '{homedir}/Simulations/{nmerdir}/{saltdir}/{concdir}'.format(homedir=homedir, nmerdir=nmerdir, saltdir=saltdir, concdir=concdir)\n",
    "            %cd -q $WORKDIR\n",
    "            \n",
    "            name = 'ERMOD_{}_{}_{}'.format(nmerdir, saltdir, concdir)\n",
    "            with open('submit_ermod.pbs', 'w') as text_file:\n",
    "                text_file.write(submit_script.format(path=WORKDIR, name=name))\n",
    "            !qsub submit_ermod.pbs\n",
    "            time.sleep(1)"
   ]
  },
  {
   "cell_type": "markdown",
   "id": "bb9e5b0e",
   "metadata": {},
   "source": [
    "## Solvation free energies: The First Look\n",
    "The results from the ERmod analysis have been stored in an easier readable format in the file `_results.yml` containing the solvation free energy of caffeine in different salt solutions and salt concentrations. The solvation free energy within the framework of energy-representation theory of solvation can be written as (Eq. 5 in the original paper)\n",
    "\\begin{equation}\n",
    "    \\Delta G_{\\mathrm{sol}} = \\Delta G_{\\mathrm{self}} + \\Delta G_{\\mathrm{anion}} + \\Delta G_{\\mathrm{cation}} + \\Delta G_{\\mathrm{water}},\n",
    "    \\label{eq:SolventDecomposition}\n",
    "\\end{equation}\n",
    "where the individual terms constitute the chemical species contribution to the solvation free energy of caffeine. The contribution from the anions, cations and water for the various salt solutions and concentrations can also be found in the file `_results.yml`.\n",
    "\n",
    "In the following code, we will first inspect the self-energy, being the first term of the previous equation. Next the solvation free energy's variation with salt concentration for the different salt solutions will be visualized together with the decomposition. The code is utilizing the raw output files given by ERmod, rather than the .yml files.\n",
    "\n",
    "### Polyethylene glycol self-energy"
   ]
  },
  {
   "cell_type": "code",
   "execution_count": 3,
   "id": "b4909f11",
   "metadata": {},
   "outputs": [
    {
     "name": "stdout",
     "output_type": "stream",
     "text": [
      "Mean self contribution ranges from -0.0002 to 0.0015 kcal/mol.\n"
     ]
    }
   ],
   "source": [
    "%cd -q $homedir\n",
    "\n",
    "selfs = []\n",
    "\n",
    "for nmer in nmers:\n",
    "    for saltdir in salts:\n",
    "        for conc in concentrations:\n",
    "            concdir = '{0:.2f}'.format(conc)\n",
    "            if conc == 0 and saltdir == 'No_salt':\n",
    "                fpath = 'Simulations/PEG{}mer/No_salt/ermod.out'.format(nmer)\n",
    "            elif conc != 0 and saltdir == 'No_salt':\n",
    "                continue\n",
    "            else:\n",
    "                fpath = 'Simulations/PEG{}mer/{}/{}/ermod.out'.format(nmer, saltdir, concdir)\n",
    "            \n",
    "            with open(fpath) as f:\n",
    "                lines = f.readlines()\n",
    "            f.close()\n",
    "    \n",
    "            for line in lines:\n",
    "                if \"Self-energy of the solute\" in line:\n",
    "                    selfs.append(float(line.split()[5]))\n",
    "\n",
    "selfs = np.asarray(selfs)\n",
    "print('Mean self contribution ranges from {:.3} to {:.3} kcal/mol.'\n",
    "      .format(selfs.flatten().min(), selfs.flatten().max()))"
   ]
  },
  {
   "cell_type": "markdown",
   "id": "e3de5fe0",
   "metadata": {},
   "source": [
    "### Polyethylene glycol solvation energy and polymer length in water"
   ]
  },
  {
   "cell_type": "code",
   "execution_count": 4,
   "id": "4bb61752",
   "metadata": {},
   "outputs": [
    {
     "name": "stdout",
     "output_type": "stream",
     "text": [
      "Linear statistics:\n",
      "Slope: -2.992 ± 0.008 kcal/mol/monomer.\n",
      "Intercept: 1.454 ± 0.137 kcal/mol.\n",
      "R²: 1.0000\n",
      "p-value: 3.537056e-10\n"
     ]
    },
    {
     "data": {
      "image/png": "[encoded data removed]",
      "text/plain": [
       "<Figure size 432x324 with 1 Axes>"
      ]
     },
     "metadata": {
      "needs_background": "light"
     },
     "output_type": "display_data"
    }
   ],
   "source": [
    "%cd -q $homedir\n",
    "fig, ax = plt.subplots(figsize=(6,4.5))\n",
    "\n",
    "slvfe = []\n",
    "slvfe_err = []\n",
    "\n",
    "for nmer in nmers:\n",
    "    with open('Simulations/PEG{}mer/No_salt/ermod.out'.format(nmer)) as f:\n",
    "        lines = f.readlines()\n",
    "    f.close()\n",
    "    for lineNR, line in enumerate(lines):\n",
    "        if \"cumulative average & 95% error for solvation free energy\" in line:\n",
    "            slvfe.append(float(lines[lineNR+10].split()[1]))\n",
    "            slvfe_err.append(float(lines[lineNR+10].split()[2]))\n",
    "            break        \n",
    "\n",
    "sims = ax.errorbar(nmers, slvfe, yerr=slvfe_err, marker='o', linestyle='None', color='C0')\n",
    "\n",
    "ax.set_xlabel('PEO polymer length', fontsize=16)\n",
    "ax.set_ylabel('Solvation free energy,\\n$\\Delta G_{\\mathrm{sol}}$, [kcal/mol]', fontsize=16)\n",
    "ax.tick_params(axis='both', which='major', labelsize=12)\n",
    "ax.spines['right'].set_visible(False)\n",
    "ax.spines['top'].set_visible(False)\n",
    "\n",
    "s = stats.linregress(np.array(nmers), slvfe)\n",
    "print('Linear statistics:\\nSlope: {:.3f} ± {:.3f} kcal/mol/monomer.\\nIntercept: {:.3f} ± {:.3f} kcal/mol.\\nR²: {:.4f}\\np-value: {:e}'.format(s.slope, s.stderr, s.intercept, s.intercept_stderr, s.rvalue**2, s.pvalue))\n",
    "linregress = ax.plot(np.arange(-1, 50, 0.1), s.intercept+np.arange(-1, 50, 0.1)*s.slope, 'C1')\n",
    "linregress_err = ax.fill_between(np.arange(-1, 50, 0.1), y1=(s.intercept+s.intercept_stderr)+np.arange(-1, 50, 0.1)*(s.slope+s.stderr),\n",
    "                                                        y2=(s.intercept-s.intercept_stderr)+np.arange(-1, 50, 0.1)*(s.slope-s.stderr),\n",
    "                             color='C1', alpha=0.1)\n",
    "\n",
    "leg = ax.legend([sims, (linregress[0], linregress_err)], ['Free energy calculation', 'Linear regression'],\n",
    "                loc='upper right', frameon=False, fontsize=14)\n",
    "\n",
    "ax.set_xlim(-0.5, 40)\n",
    "ax.set_ylim(-110, 5)\n",
    "\n",
    "fig.tight_layout()\n",
    "fig.savefig('Figures/PEG_polymerlength.pdf', bbox_inches='tight')"
   ]
  },
  {
   "cell_type": "markdown",
   "id": "3c0688dc",
   "metadata": {},
   "source": [
    "### Polyethylene glycol solvation energy and polymer length in salt"
   ]
  },
  {
   "cell_type": "code",
   "execution_count": 5,
   "id": "eafda410",
   "metadata": {},
   "outputs": [
    {
     "name": "stdout",
     "output_type": "stream",
     "text": [
      "Linear statistics: Water\n",
      "Slope: -2.992 ± 0.008 kcal/mol/monomer.\n",
      "Intercept: 1.454 ± 0.137 kcal/mol.\n",
      "R²: 1.0000\n",
      "p-value: 3.537056e-10\n",
      "Linear statistics: NaSCN, 1M\n",
      "Slope: -2.986 ± 0.020 kcal/mol/monomer.\n",
      "Intercept: 1.444 ± 0.325 kcal/mol.\n",
      "R²: 0.9998\n",
      "p-value: 1.118927e-08\n"
     ]
    },
    {
     "data": {
      "image/png": "[encoded data removed]",
      "text/plain": [
       "<Figure size 432x324 with 1 Axes>"
      ]
     },
     "metadata": {
      "needs_background": "light"
     },
     "output_type": "display_data"
    }
   ],
   "source": [
    "%cd -q $homedir\n",
    "fig, ax = plt.subplots(figsize=(6,4.5))\n",
    "icons = []\n",
    "\n",
    "# Water\n",
    "slvfe = []\n",
    "slvfe_err = []\n",
    "for nmer in nmers:\n",
    "    with open('Simulations/PEG{}mer/No_salt/ermod.out'.format(nmer)) as f:\n",
    "        lines = f.readlines()\n",
    "    f.close()\n",
    "    for lineNR, line in enumerate(lines):\n",
    "        if \"cumulative average & 95% error for solvation free energy\" in line:\n",
    "            slvfe.append(float(lines[lineNR+10].split()[1]))\n",
    "            slvfe_err.append(float(lines[lineNR+10].split()[2]))\n",
    "            break\n",
    "        \n",
    "sims = ax.errorbar(nmers, slvfe, yerr=slvfe_err, marker='o', linestyle='None', color='C0', alpha=0.5)\n",
    "\n",
    "s = stats.linregress(np.array(nmers), slvfe)\n",
    "print('Linear statistics: Water\\nSlope: {:.3f} ± {:.3f} kcal/mol/monomer.\\nIntercept: {:.3f} ± {:.3f} kcal/mol.\\nR²: {:.4f}\\np-value: {:e}'.format(s.slope, s.stderr, s.intercept, s.intercept_stderr, s.rvalue**2, s.pvalue))\n",
    "linregress = ax.plot(np.arange(-1, 50, 0.1), s.intercept+np.arange(-1, 50, 0.1)*s.slope, 'C0', alpha=0.5)\n",
    "linregress_err = ax.fill_between(np.arange(-1, 50, 0.1), y1=(s.intercept+s.intercept_stderr)+np.arange(-1, 50, 0.1)*(s.slope+s.stderr),\n",
    "                                                        y2=(s.intercept-s.intercept_stderr)+np.arange(-1, 50, 0.1)*(s.slope-s.stderr),\n",
    "                             color='C0', alpha=0.1)\n",
    "icons.append((linregress[0],linregress_err))\n",
    "\n",
    "# SCN, 1M\n",
    "slvfe = []\n",
    "slvfe_err = []\n",
    "for nmer in nmers:\n",
    "    with open('Simulations/PEG{}mer/NaSCN/1.00/ermod.out'.format(nmer)) as f:\n",
    "        lines = f.readlines()\n",
    "    f.close()\n",
    "    for lineNR, line in enumerate(lines):\n",
    "        if \"cumulative average & 95% error for solvation free energy\" in line:\n",
    "            slvfe.append(float(lines[lineNR+10].split()[1]))\n",
    "            slvfe_err.append(float(lines[lineNR+10].split()[2]))\n",
    "            break\n",
    "            \n",
    "sims = ax.errorbar(nmers, slvfe, yerr=slvfe_err, marker='o', linestyle='None', color='C1', alpha=0.5)\n",
    "\n",
    "s = stats.linregress(np.array(nmers), slvfe)\n",
    "print('Linear statistics: NaSCN, 1M\\nSlope: {:.3f} ± {:.3f} kcal/mol/monomer.\\nIntercept: {:.3f} ± {:.3f} kcal/mol.\\nR²: {:.4f}\\np-value: {:e}'.format(s.slope, s.stderr, s.intercept, s.intercept_stderr, s.rvalue**2, s.pvalue))\n",
    "linregress = ax.plot(np.arange(-1, 50, 0.1), s.intercept+np.arange(-1, 50, 0.1)*s.slope, 'C1', alpha=0.5)\n",
    "linregress_err = ax.fill_between(np.arange(-1, 50, 0.1), y1=(s.intercept+s.intercept_stderr)+np.arange(-1, 50, 0.1)*(s.slope+s.stderr),\n",
    "                                                        y2=(s.intercept-s.intercept_stderr)+np.arange(-1, 50, 0.1)*(s.slope-s.stderr),\n",
    "                             color='C1', alpha=0.1)\n",
    "icons.append((linregress[0],linregress_err))\n",
    "\n",
    "leg = ax.legend(icons, ['Water', 'NaSCN, 1M'],\n",
    "                loc='upper right', frameon=False, fontsize=14)\n",
    "\n",
    "ax.set_xlabel('PEO polymer length', fontsize=16)\n",
    "ax.set_ylabel('Solvation free energy,\\n$\\Delta G_{\\mathrm{sol}}$, [kcal/mol]', fontsize=16)\n",
    "ax.tick_params(axis='both', which='major', labelsize=12)\n",
    "ax.spines['right'].set_visible(False)\n",
    "ax.spines['top'].set_visible(False)\n",
    "\n",
    "ax.set_xlim(-0.5, 40)\n",
    "ax.set_ylim(-110, 5)\n",
    "\n",
    "fig.tight_layout()\n",
    "fig.savefig('Figures/PEG_polymerlength_salt.pdf', bbox_inches='tight')"
   ]
  },
  {
   "cell_type": "markdown",
   "id": "037af182",
   "metadata": {},
   "source": [
    "### Difference in solvation free energy upon addition of salt"
   ]
  },
  {
   "cell_type": "code",
   "execution_count": 6,
   "id": "558a7bbd",
   "metadata": {},
   "outputs": [
    {
     "data": {
      "image/png": "[encoded data removed]",
      "text/plain": [
       "<Figure size 432x324 with 1 Axes>"
      ]
     },
     "metadata": {
      "needs_background": "light"
     },
     "output_type": "display_data"
    }
   ],
   "source": [
    "%cd -q $homedir\n",
    "fig, ax = plt.subplots(figsize=(6,4.5))\n",
    "icons = []\n",
    "\n",
    "# Water\n",
    "slvfe_wat = []\n",
    "slvfe_wat_err = []\n",
    "for nmer in nmers:\n",
    "    with open('Simulations/PEG{}mer/No_salt/ermod.out'.format(nmer)) as f:\n",
    "        lines = f.readlines()\n",
    "    f.close()\n",
    "    for lineNR, line in enumerate(lines):\n",
    "        if \"cumulative average & 95% error for solvation free energy\" in line:\n",
    "            slvfe_wat.append(float(lines[lineNR+10].split()[1]))\n",
    "            slvfe_wat_err.append(float(lines[lineNR+10].split()[2]))\n",
    "            break\n",
    "\n",
    "slvfe_wat = unumpy.uarray(slvfe_wat, slvfe_wat_err)\n",
    "\n",
    "# SCN, 1M\n",
    "slvfe = []\n",
    "slvfe_err = []\n",
    "for nmer in nmers:\n",
    "    with open('Simulations/PEG{}mer/NaSCN/1.00/ermod.out'.format(nmer)) as f:\n",
    "        lines = f.readlines()\n",
    "    f.close()\n",
    "    for lineNR, line in enumerate(lines):\n",
    "        if \"cumulative average & 95% error for solvation free energy\" in line:\n",
    "            slvfe.append(float(lines[lineNR+10].split()[1]))\n",
    "            slvfe_err.append(float(lines[lineNR+10].split()[2]))\n",
    "            break\n",
    "            \n",
    "slvfe = unumpy.uarray(slvfe, slvfe_err)\n",
    "\n",
    "sims = ax.errorbar(nmers, unumpy.nominal_values((slvfe - slvfe_wat)/np.array(nmers)),\n",
    "                   yerr=unumpy.std_devs((slvfe - slvfe_wat)/np.array(nmers)),\n",
    "                   marker='o', linestyle='None', color='C0', alpha=1)\n",
    "\n",
    "ax.hlines(0, xmin=0, xmax=40, colors='black', linestyle='dashed', alpha=0.5)\n",
    "\n",
    "ax.set_xlabel('PEO polymer length', fontsize=16)\n",
    "ax.set_ylabel('Difference in Solvation free energy,\\n$\\Delta\\Delta G_{\\mathrm{sol}}/N_{\\mathrm{PEG}}$, [kcal/mol/monomer]', fontsize=16)\n",
    "ax.tick_params(axis='both', which='major', labelsize=12)\n",
    "ax.spines['right'].set_visible(False)\n",
    "ax.spines['top'].set_visible(False)\n",
    "\n",
    "ax.set_xlim(-0.5, 40)\n",
    "ax.set_ylim(-0.2, 0.3)\n",
    "\n",
    "fig.tight_layout()\n",
    "fig.savefig('Figures/PEG_polymerlength_salt_difference.pdf', bbox_inches='tight')"
   ]
  },
  {
   "cell_type": "markdown",
   "id": "a36ddd10",
   "metadata": {},
   "source": [
    "### Difference in solvation free energy per SASA upon addition of salt"
   ]
  },
  {
   "cell_type": "code",
   "execution_count": 7,
   "id": "127b1652",
   "metadata": {},
   "outputs": [
    {
     "data": {
      "image/png": "[encoded data removed]",
      "text/plain": [
       "<Figure size 432x324 with 1 Axes>"
      ]
     },
     "metadata": {
      "needs_background": "light"
     },
     "output_type": "display_data"
    }
   ],
   "source": [
    "fig, ax = plt.subplots(figsize=(6,4.5))\n",
    "\n",
    "slvfe = np.zeros(shape=(len(nmers), len(salts)))\n",
    "slvfe_err = np.zeros(shape=(len(nmers), len(salts)))\n",
    "\n",
    "for i, nmer in enumerate(nmers):\n",
    "    pdb = md.load_pdb('Simulations/PEG{nmer}mer/NaSCN/1.00/PEG_{nmer}_NaSCN_hydrated_sol.pdb'.format(nmer=nmer))\n",
    "    PEG_indices = pdb.topology.select('(resname PGH) or (resname PGM) or (resname PGT)')\n",
    "    for j, condition in enumerate(['No_salt', 'NaSCN/1.00']):\n",
    "        traj = md.load_xtc('Simulations/PEG{}mer/{}/trajectory_sol.xtc'.format(nmer, condition),\n",
    "                           top='PDB_files/PEO-{}-mer.pdb'.format(nmer), atom_indices=PEG_indices)\n",
    "        sasa = md.shrake_rupley(traj, mode='residue')\n",
    "        \n",
    "        with open('Simulations/PEG{}mer/NaSCN/1.00/ermod.out'.format(nmer)) as f:\n",
    "            lines = f.readlines()\n",
    "        f.close()\n",
    "        for lineNR, line in enumerate(lines):\n",
    "            if \"cumulative average & 95% error for solvation free energy\" in line:\n",
    "                slvfe[i][j] = float(lines[lineNR+10].split()[1]) / sasa.sum(axis=1).mean()\n",
    "                slvfe_err[i][j] = float(lines[lineNR+10].split()[2]) / sasa.sum(axis=1).mean()\n",
    "                break\n",
    "                        \n",
    "slvfe = unumpy.uarray(slvfe, slvfe_err)\n",
    "\n",
    "sims = ax.errorbar(nmers, unumpy.nominal_values(np.diff(slvfe)).T[0],\n",
    "                   yerr=unumpy.std_devs(np.diff(slvfe)).T[0],\n",
    "                   marker='o', linestyle='None', color='C0', alpha=1)\n",
    "\n",
    "ax.hlines(0, xmin=0, xmax=40, colors='black', linestyle='dashed', alpha=0.5)\n",
    "\n",
    "ax.set_xlabel('PEO polymer length', fontsize=16)\n",
    "ax.set_ylabel('Difference in Solvation free energy,\\n$\\Delta\\Delta G_{\\mathrm{sol}}/\\mathrm{SASA}_{\\mathrm{PEG}}$, [kcal/mol/monomer]', fontsize=16)\n",
    "ax.tick_params(axis='both', which='major', labelsize=12)\n",
    "ax.spines['right'].set_visible(False)\n",
    "ax.spines['top'].set_visible(False)\n",
    "\n",
    "\n",
    "fig.tight_layout()\n",
    "fig.savefig('Figures/PEG_polymerlength_salt_difference_SASA_scaled.pdf', bbox_inches='tight')"
   ]
  },
  {
   "cell_type": "code",
   "execution_count": 8,
   "id": "0737c388",
   "metadata": {},
   "outputs": [
    {
     "name": "stdout",
     "output_type": "stream",
     "text": [
      "Finished PEG2\n",
      "Finished PEG4\n",
      "Finished PEG6\n",
      "Finished PEG8\n",
      "Finished PEG15\n",
      "Finished PEG36\n"
     ]
    },
    {
     "data": {
      "image/png": "[encoded data removed]",
      "text/plain": [
       "<Figure size 1152x288 with 6 Axes>"
      ]
     },
     "metadata": {
      "needs_background": "light"
     },
     "output_type": "display_data"
    }
   ],
   "source": [
    "fig, axes = plt.subplots(nrows=1, ncols=6, figsize=(16,4))\n",
    "\n",
    "for i, nmer in enumerate(nmers):\n",
    "    pdb = md.load_pdb('Simulations/PEG{nmer}mer/NaSCN/1.00/PEG_{nmer}_NaSCN_hydrated_sol.pdb'.format(nmer=nmer))\n",
    "    PEG_indices = pdb.topology.select('(resname PGH) or (resname PGM) or (resname PGT)')\n",
    "    for j, condition in enumerate(['No_salt', 'NaSCN/1.00']):\n",
    "        traj = md.load_xtc('Simulations/PEG{}mer/{}/trajectory_sol.xtc'.format(nmer, condition),\n",
    "                           top='PDB_files/PEO-{}-mer.pdb'.format(nmer), atom_indices=PEG_indices)\n",
    "        sasa = md.shrake_rupley(traj, mode='residue')\n",
    "        \n",
    "        if j == 0:\n",
    "            label = 'Water'\n",
    "        if j == 1:\n",
    "            label = 'NaSCN, ~1 M'\n",
    "        axes[i].hist(sasa.sum(axis=1), bins=50, color='C'+str(j), alpha=0.5, label=label, density=True)\n",
    "        \n",
    "    axes[i].legend(loc=0, frameon=False)\n",
    "    print('Finished PEG{}'.format(nmer))"
   ]
  },
  {
   "cell_type": "markdown",
   "id": "1faa2926",
   "metadata": {},
   "source": [
    "### Solvent decomposition of the solvation free energy of PEG"
   ]
  },
  {
   "cell_type": "code",
   "execution_count": 9,
   "id": "64df22d6",
   "metadata": {},
   "outputs": [
    {
     "data": {
      "image/png": "[encoded data removed]",
      "text/plain": [
       "<Figure size 432x324 with 1 Axes>"
      ]
     },
     "metadata": {
      "needs_background": "light"
     },
     "output_type": "display_data"
    }
   ],
   "source": [
    "fig, ax = plt.subplots(figsize=(6,4.5))\n",
    "\n",
    "slvfe_data = np.zeros(shape=(len(nmers), 8))\n",
    "labels = ['Total', 'SCN⁻', 'Na⁺', 'Water']\n",
    "\n",
    "for i, nmer in enumerate(nmers):\n",
    "    with open('Simulations/PEG{}mer/NaSCN/1.00/ermod.out'.format(nmer)) as f:\n",
    "        lines = f.readlines()\n",
    "    f.close()\n",
    "    for lineNR, line in enumerate(lines):\n",
    "        if \"cumulative average & 95% error for solvation free energy\" in line:\n",
    "            data = lines[lineNR+10].split()[1:]\n",
    "            data = np.array([float(j) for j in data])\n",
    "            slvfe_data[i] = data\n",
    "\n",
    "icons = []\n",
    "for i, species_index in enumerate(range(0, slvfe_data.shape[1], 2)):\n",
    "    ax.errorbar(nmers, slvfe_data.T[species_index], yerr=slvfe_data.T[species_index+1], label=labels[i], marker='o', linestyle='None',\n",
    "                color='C'+str(i))\n",
    "    s = stats.linregress(np.array(nmers), slvfe_data.T[species_index])\n",
    "    linregress = ax.plot(np.arange(-1, 50, 0.1), s.intercept+np.arange(-1, 50, 0.1)*s.slope, color='C'+str(i))\n",
    "    linregress_err = ax.fill_between(np.arange(-1, 50, 0.1), y1=(s.intercept+s.intercept_stderr)+np.arange(-1, 50, 0.1)*(s.slope+s.stderr),\n",
    "                                                        y2=(s.intercept-s.intercept_stderr)+np.arange(-1, 50, 0.1)*(s.slope-s.stderr),\n",
    "                             color='C'+str(i), alpha=0.1)\n",
    "    icons.append((linregress[0],linregress_err))\n",
    "    \n",
    "\n",
    "leg = ax.legend(icons, labels, loc='best', frameon=False, fontsize=14)\n",
    "\n",
    "ax.set_xlim(-0.5, 40)\n",
    "ax.set_ylim(-110, 5)\n",
    "ax.set_xlabel('PEO polymer length', fontsize=16)\n",
    "ax.set_ylabel('Solvation free energy,\\n$\\Delta G_{\\mathrm{sol}}$, [kcal/mol]', fontsize=16)\n",
    "ax.tick_params(axis='both', which='major', labelsize=12)\n",
    "ax.spines['right'].set_visible(False)\n",
    "ax.spines['top'].set_visible(False)\n",
    "\n",
    "\n",
    "fig.savefig('Figures/PEG_polymerlength_solvent_decomposition.pdf', bbox_inches='tight')"
   ]
  },
  {
   "cell_type": "markdown",
   "id": "8541389d",
   "metadata": {},
   "source": [
    "### Species decomposition of the mean solute-solvent interaction variation with salt concentration"
   ]
  },
  {
   "cell_type": "code",
   "execution_count": 10,
   "id": "cdbdb40a",
   "metadata": {},
   "outputs": [
    {
     "data": {
      "image/png": "[encoded data removed]",
      "text/plain": [
       "<Figure size 432x324 with 1 Axes>"
      ]
     },
     "metadata": {
      "needs_background": "light"
     },
     "output_type": "display_data"
    }
   ],
   "source": [
    "fig, ax = plt.subplots(figsize=(6,4.5))\n",
    "\n",
    "avguv = np.zeros(shape=(len(nmers), 3))\n",
    "labels = ['SCN⁻', 'Na⁺', 'Water']\n",
    "\n",
    "for i, nmer in enumerate(nmers):\n",
    "    data = np.loadtxt('Simulations/PEG{}mer/NaSCN/1.00/soln/aveuv.tt'.format(nmer),\n",
    "                      usecols=(1,2,3))\n",
    "    avguv[i] = data.mean(axis=0)\n",
    "\n",
    "\n",
    "icons = []\n",
    "for species_index in range(3):\n",
    "    ax.plot(nmers, avguv.T[species_index], marker='o', linestyle='None', color='C'+str(species_index))\n",
    "    s = stats.linregress(np.array(nmers), avguv.T[species_index])\n",
    "    linregress = ax.plot(np.arange(-1, 50, 0.1), s.intercept+np.arange(-1, 50, 0.1)*s.slope, color='C'+str(species_index))\n",
    "    linregress_err = ax.fill_between(np.arange(-1, 50, 0.1), y1=(s.intercept+s.intercept_stderr)+np.arange(-1, 50, 0.1)*(s.slope+s.stderr),\n",
    "                                                        y2=(s.intercept-s.intercept_stderr)+np.arange(-1, 50, 0.1)*(s.slope-s.stderr),\n",
    "                             color='C'+str(species_index), alpha=0.1)\n",
    "    icons.append((linregress[0],linregress_err))\n",
    "    \n",
    "\n",
    "leg = ax.legend(icons, labels, loc='best', frameon=False, fontsize=14)\n",
    "\n",
    "ax.set_xlim(-0.5, 40)\n",
    "#ax.set_ylim(-110, 5)\n",
    "ax.set_xlabel('PEO polymer length', fontsize=16)\n",
    "ax.set_ylabel(r'Mean pair energy, $\\beta \\langle \\nu \\rangle_{i, \\lambda=1}}$', fontsize=16)\n",
    "ax.tick_params(axis='both', which='major', labelsize=12)\n",
    "ax.spines['right'].set_visible(False)\n",
    "ax.spines['top'].set_visible(False)\n",
    "\n",
    "\n",
    "fig.savefig('Figures/PEG_polymerlength_avguv.pdf', bbox_inches='tight')"
   ]
  },
  {
   "cell_type": "code",
   "execution_count": null,
   "id": "c9783232",
   "metadata": {},
   "outputs": [],
   "source": []
  },
  {
   "cell_type": "code",
   "execution_count": null,
   "id": "432ba8dc",
   "metadata": {},
   "outputs": [],
   "source": []
  },
  {
   "cell_type": "code",
   "execution_count": null,
   "id": "d6f37d73",
   "metadata": {},
   "outputs": [],
   "source": []
  },
  {
   "cell_type": "code",
   "execution_count": null,
   "id": "3ca68f58",
   "metadata": {},
   "outputs": [],
   "source": []
  },
  {
   "cell_type": "code",
   "execution_count": null,
   "id": "0c582339",
   "metadata": {},
   "outputs": [],
   "source": []
  },
  {
   "cell_type": "code",
   "execution_count": null,
   "id": "10231b3e",
   "metadata": {},
   "outputs": [],
   "source": []
  },
  {
   "cell_type": "code",
   "execution_count": null,
   "id": "b324344c",
   "metadata": {},
   "outputs": [],
   "source": []
  },
  {
   "cell_type": "markdown",
   "id": "8260be38",
   "metadata": {},
   "source": [
    "## Debuggging"
   ]
  },
  {
   "cell_type": "markdown",
   "id": "05b44b37",
   "metadata": {},
   "source": [
    "### Radius of Gyration (Conformational ensemble in vacuum and solution)"
   ]
  },
  {
   "cell_type": "code",
   "execution_count": null,
   "id": "9ce74b76",
   "metadata": {
    "scrolled": true
   },
   "outputs": [],
   "source": [
    "fig, axes = plt.subplots(ncols=len(nmers), figsize=(16,3))\n",
    "\n",
    "bins = np.arange(0, 2, 0.001)\n",
    "\n",
    "for i, nmer in enumerate(nmers):\n",
    "    mol = pmd.load_file('Simulations/PEG{nmer}mer/Solute/PEG_{nmer}_vacuum.top'.format(nmer=nmer),\n",
    "                        xyz='Simulations/PEG{nmer}mer/Solute/PEG_{nmer}_vacuum.pdb'.format(nmer=nmer))\n",
    "    \n",
    "    masses = []\n",
    "    for atom in mol.atoms:\n",
    "        masses.append(atom.mass)\n",
    "    \n",
    "    traj = md.load_xtc('Simulations/PEG{nmer}mer/No_salt/trajectory_sol.xtc'.format(nmer=nmer),\n",
    "                       top='Simulations/PEG{nmer}mer/No_salt/PEG_{nmer}_No_salt_sol.pdb'.format(nmer=nmer))\n",
    "    traj.remove_solvent(inplace=True)\n",
    "    rg = md.compute_rg(traj, masses=np.array(masses))\n",
    "    solvated_density = axes[i].hist(rg, color='C0', bins=bins)\n",
    "    \n",
    "    traj = md.load_xtc('Simulations/PEG{nmer}mer/Solute/trajectory.xtc'.format(nmer=nmer),\n",
    "                       top='Simulations/PEG{nmer}mer/Solute/PEG_{nmer}_vacuum.pdb'.format(nmer=nmer))\n",
    "    rg = md.compute_rg(traj, masses=np.array(masses))\n",
    "    vacuum_density = axes[i].hist(rg, color='C1', bins=bins)\n",
    "    \n",
    "    \n",
    "    axes[i].set_xlabel('Radius of Gyration [nm]')\n",
    "    shared_density = np.sum(np.minimum(solvated_density[0], vacuum_density[0]))\n",
    "    axes[i].set_title('Density overlap: {:.2f}%'.format(shared_density/np.sum(np.maximum(solvated_density[0], vacuum_density[0]))*100))\n",
    "\n",
    "axes[0].set_ylabel('Occurrences')\n",
    "c0 = mpatches.Patch(color='C0', label='PEG in water')\n",
    "c1 = mpatches.Patch(color='C1', label='PEG in vaccum')\n",
    "lgd = fig.legend(handles=[c0, c1], loc='lower center', ncol=2, frameon=False, bbox_to_anchor=(0.5, -0.05))\n",
    "fig.subplots_adjust(bottom=0.25)\n",
    "\n",
    "fig.tight_layout()\n",
    "fig.savefig('Figures/Rg_Soln_Vacuum_ensemble.pdf', bbox_extra_artists=(lgd,), bbox_inches='tight')"
   ]
  },
  {
   "cell_type": "markdown",
   "id": "00c5091c",
   "metadata": {},
   "source": [
    "### Radius of Gyration (Conformational ensemble in vacuum and solution)"
   ]
  },
  {
   "cell_type": "code",
   "execution_count": null,
   "id": "43d7f57d",
   "metadata": {},
   "outputs": [],
   "source": [
    "mol = pmd.load_file('Simulations/PEG36mer/Solute/PEG_36_vacuum.top',\n",
    "                    xyz='Simulations/PEG36mer/Solute/PEG_36_vacuum.pdb')\n",
    "masses = []\n",
    "for atom in mol.atoms:\n",
    "    masses.append(atom.mass)\n",
    "    \n",
    "    \n",
    "## TEMPERING ##\n",
    "traj_tempering = md.load_xtc('Simulations/testing/tempering_test/trajectory_sol.xtc',\n",
    "                             top='Simulations/testing/tempering_test/PEG_36_No_salt_sol.pdb')\n",
    "traj_tempering.remove_solvent(inplace=True)\n",
    "rg_tempering = md.compute_rg(traj_tempering, masses=np.array(masses))\n",
    "\n",
    "## VACUUM ##\n",
    "traj_vac = md.load_xtc('Simulations/PEG36mer/Solute/trajectory.xtc', \n",
    "                       top='Simulations/PEG36mer/Solute/PEG_36_vacuum.pdb')\n",
    "rg_vac = md.compute_rg(traj_vac, masses=np.array(masses))\n",
    "\n",
    "# SOLVATED ##\n",
    "traj_sol = md.load_xtc('Simulations/PEG36mer/No_salt/trajectory_sol.xtc', \n",
    "                       top='Simulations/PEG36mer/No_salt/PEG_36_No_salt_sol.pdb')\n",
    "traj_sol.remove_solvent(inplace=True)\n",
    "rg_sol = md.compute_rg(traj_sol, masses=np.array(masses))"
   ]
  },
  {
   "cell_type": "code",
   "execution_count": null,
   "id": "d8e5e801",
   "metadata": {},
   "outputs": [],
   "source": [
    "vac_density = plt.hist(rg_vac, bins=100, range=(0.5,2), label='Vacuum')\n",
    "tem_density = plt.hist(rg_tempering, bins=100, range=(0.5,1.75), label='Tempering')\n",
    "sol_density = plt.hist(rg_sol, bins=100, range=(0.5,1.75), label='Solvated')\n",
    "shared_density = np.sum(np.minimum(vac_density[0], tem_density[0]))\n",
    "print('Shared density: {}%'.format(shared_density/np.sum(np.maximum(vac_density[0], tem_density[0]))*100))\n",
    "plt.legend(loc=0)\n",
    "plt.xlim(0.5, 1.7)"
   ]
  },
  {
   "cell_type": "code",
   "execution_count": null,
   "id": "f3f6f498",
   "metadata": {},
   "outputs": [],
   "source": [
    "mol = pmd.load_file('Simulations/PEG36mer/Solute/PEG_36_vacuum.top',\n",
    "                    xyz='Simulations/PEG36mer/Solute/PEG_36_vacuum.pdb')\n",
    "masses = []\n",
    "for atom in mol.atoms:\n",
    "    masses.append(atom.mass)\n",
    "\n",
    "## 298 Kelvin ##\n",
    "traj_298 = md.load_xtc('Simulations/PEG36mer/No_salt/trajectory_sol.xtc', \n",
    "                       top='Simulations/PEG36mer/No_salt/PEG_36_No_salt_sol.pdb')\n",
    "traj_298.remove_solvent(inplace=True)\n",
    "rg_298 = md.compute_rg(traj_298, masses=np.array(masses))\n",
    "\n",
    "## 600 Kelvin ##\n",
    "traj_600 = md.load_xtc('Simulations/testing/600_T_test/trajectory_sol.xtc', \n",
    "                       top='Simulations/testing/600_T_test/PEG_36_No_salt_sol.pdb')\n",
    "traj_600.remove_solvent(inplace=True)\n",
    "rg_600 = md.compute_rg(traj_600, masses=np.array(masses))\n",
    "\n",
    "## 600 Kelvin ##\n",
    "traj_1000 = md.load_xtc('Simulations/testing/1000_T_test/trajectory_sol.xtc', \n",
    "                        top='Simulations/testing/1000_T_test/PEG_36_No_salt_sol.pdb')\n",
    "traj_1000.remove_solvent(inplace=True)\n",
    "rg_1000 = md.compute_rg(traj_1000, masses=np.array(masses))\n",
    "\n",
    "\n",
    "## VACUUM ##\n",
    "traj_vac = md.load_xtc('Simulations/PEG36mer/Solute/trajectory.xtc', \n",
    "                       top='Simulations/PEG36mer/Solute/PEG_36_vacuum.pdb')\n",
    "rg_vac = md.compute_rg(traj_vac, masses=np.array(masses))"
   ]
  },
  {
   "cell_type": "code",
   "execution_count": null,
   "id": "1ca350db",
   "metadata": {},
   "outputs": [],
   "source": [
    "density_vac = plt.hist(rg_vac, bins=100, range=(0.5,2), label='Vacuum')\n",
    "density_298 = plt.hist(rg_298, bins=100, range=(0.5,1.75), label='298.15 Kelvin')\n",
    "density_600 = plt.hist(rg_600, bins=100, range=(0.5,1.75), label='600 Kelvin')\n",
    "density_1000 = plt.hist(rg_1000, bins=100, range=(0.5,1.75), label='1000 Kelvin')\n",
    "plt.legend(loc=0)\n",
    "plt.xlim(0.5, 1.7)"
   ]
  },
  {
   "cell_type": "code",
   "execution_count": null,
   "id": "b93671c2",
   "metadata": {},
   "outputs": [],
   "source": []
  },
  {
   "cell_type": "code",
   "execution_count": null,
   "id": "5ea83828",
   "metadata": {},
   "outputs": [],
   "source": [
    "mol = pmd.load_file('Simulations/PEG36mer/Solute/PEG_36_vacuum.top',\n",
    "                    xyz='Simulations/PEG36mer/Solute/PEG_36_vacuum.pdb')\n",
    "masses = []\n",
    "for atom in mol.atoms:\n",
    "    masses.append(atom.mass)\n",
    "    \n",
    "## 298 Kelvin ##\n",
    "traj_298 = md.load_xtc('Simulations/testing/vacuum_test/298K/trajectory.xtc', \n",
    "                        top='Simulations/testing/vacuum_test/298K/PEG_36_vacuum.pdb')\n",
    "rg_298 = md.compute_rg(traj_298, masses=np.array(masses))\n",
    "\n",
    "## 400 Kelvin ##\n",
    "traj_400 = md.load_xtc('Simulations/testing/vacuum_test/400K/trajectory.xtc', \n",
    "                        top='Simulations/testing/vacuum_test/400K/PEG_36_vacuum.pdb')\n",
    "rg_400 = md.compute_rg(traj_400, masses=np.array(masses))\n",
    "\n",
    "## 600 Kelvin ##\n",
    "traj_600 = md.load_xtc('Simulations/testing/vacuum_test/600K/trajectory.xtc', \n",
    "                        top='Simulations/testing/vacuum_test/600K/PEG_36_vacuum.pdb')\n",
    "rg_600 = md.compute_rg(traj_600, masses=np.array(masses))\n",
    "\n",
    "## 800 Kelvin ##\n",
    "traj_800 = md.load_xtc('Simulations/testing/vacuum_test/800K/trajectory.xtc', \n",
    "                        top='Simulations/testing/vacuum_test/800K/PEG_36_vacuum.pdb')\n",
    "rg_800 = md.compute_rg(traj_800, masses=np.array(masses))\n",
    "\n",
    "## 1000 Kelvin ##\n",
    "traj_1000 = md.load_xtc('Simulations/testing/vacuum_test/1000K/trajectory.xtc', \n",
    "                        top='Simulations/testing/vacuum_test/1000K/PEG_36_vacuum.pdb')\n",
    "rg_1000 = md.compute_rg(traj_1000, masses=np.array(masses))\n",
    "\n",
    "## 298 Kelvin ##\n",
    "traj_298_sol = md.load_xtc('Simulations/PEG36mer/No_salt/trajectory_sol.xtc', \n",
    "                       top='Simulations/PEG36mer/No_salt/PEG_36_No_salt_sol.pdb')\n",
    "traj_298_sol.remove_solvent(inplace=True)\n",
    "rg_298_sol = md.compute_rg(traj_298_sol, masses=np.array(masses))"
   ]
  },
  {
   "cell_type": "code",
   "execution_count": null,
   "id": "e4922a85",
   "metadata": {},
   "outputs": [],
   "source": [
    "density_298 = plt.hist(rg_298, bins=100, range=(0.5,2), label='298.15 Kelvin')\n",
    "density_400 = plt.hist(rg_400, bins=100, range=(0.5,1.75), label='400 Kelvin')\n",
    "density_600 = plt.hist(rg_600, bins=100, range=(0.5,1.75), label='600 Kelvin')\n",
    "density_800 = plt.hist(rg_800, bins=100, range=(0.5,1.75), label='800 Kelvin')\n",
    "density_1000 = plt.hist(rg_1000, bins=100, range=(0.5,1.75), label='1000 Kelvin')\n",
    "density_298_sol = plt.hist(rg_298_sol, bins=100, range=(0.5,1.75), label='298 Kelvin, solvated')\n",
    "plt.legend(loc=0)\n",
    "plt.xlim(0.5, 1.7)"
   ]
  },
  {
   "cell_type": "code",
   "execution_count": null,
   "id": "bbe6a51d",
   "metadata": {},
   "outputs": [],
   "source": []
  }
 ],
 "metadata": {
  "kernelspec": {
   "display_name": "Python 3 (ipykernel)",
   "language": "python",
   "name": "python3"
  },
  "language_info": {
   "codemirror_mode": {
    "name": "ipython",
    "version": 3
   },
   "file_extension": ".py",
   "mimetype": "text/x-python",
   "name": "python",
   "nbconvert_exporter": "python",
   "pygments_lexer": "ipython3",
   "version": "3.9.12"
  }
 },
 "nbformat": 4,
 "nbformat_minor": 5
}
