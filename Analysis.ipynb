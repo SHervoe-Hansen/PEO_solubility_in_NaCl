{
 "cells": [
  {
   "cell_type": "markdown",
   "id": "ffef5c98",
   "metadata": {},
   "source": [
    "# Rigorous Thermodynamic Decomposition of Salt Effects on the Polymerization of Polyethylene Glycol\n",
    "Stefan Hervø-Hansen<sup>a,*</sup>, Jan Heyda<sup>b,*</sup>, and Nobuyuki Matubayasi<sup>a,*</sup>.<br><br>\n",
    "<sup>a</sup> Division of Chemical Engineering, Graduate School of Engineering Science, Osaka University, Toyonaka, Osaka 560-8531, Japan.<br>\n",
    "<sup>b</sup> Department of Physical Chemistry, University of Chemistry and Technology, Prague CZ-16628, Czech Republic.<br>\n",
    "<sup>*</sup> To whom correspondence may be addressed: stefan@cheng.es.osaka-u.ac.jp, heydaj@vscht.cz, and nobuyuki@cheng.es.osaka-u.ac.jp.\n",
    "\n",
    "## Part 2: Analysis\n",
    "\n",
    "\n",
    "### Introduction\n",
    "\n",
    "\n",
    "### Methods & Materials\n",
    "Molecular dynamics simulations are conducted using the openMM (7.7.0)[<sup>1</sup>](#fn1) software package modded with the parmed[<sup>2</sup>](#fn2) package and be found in the [Part 1 Jupyter notebook](Simulations.ipynb). For the simulation of PEG a CHARMM derived force field (C35r) was utilized, which has previously been able to reproduce hydrodynamic radii and shape anisotropy of PEG.[<sup>3</sup>](#fn3) The PEG force field was employed in combination with the SPC/E force field for water[<sup>4</sup>](#fn4) and optimized ion parameters for sodium thiocyanate and sodium chloride.[<sup>5,</sup>](#fn5)[<sup>6</sup>](#fn6)\n",
    "The isothermal-isobaric ensemble will be sampled using a combination of a \"Middle\" discretization Langevin leap-frog integrator[<sup>7</sup>](#fn7) and a Monte Carlo barostat[<sup>8,</sup>](#fn8)[<sup>9</sup>](#fn9). The trajectories was analyzed using MDtraj[<sup>10</sup>](#fn10) for structural properties, while ERmod[<sup>11</sup>](#fn11) be utilized for the calculation of solvation free energies and can be found in the [Part 2 Jupyter notebook](Analysis.ipynb).\n",
    "\n",
    "### References\n",
    "1. <span id=\"fn1\"> P. Eastman, et al., OpenMM 7: Rapid development of high performance algorithms for molecular dynamics. PLoS Comput Biol 13, e1005659 (2017).</span><br>\n",
    "2. <span id=\"fn2\"> https://github.com/ParmEd/ParmEd </span><br>\n",
    "3. <span id=\"fn3\"> H. Lee, R. M. Venable, A. D. MacKerell Jr., R. W. Pastor, Molecular Dynamics Studies of Polyethylene Oxide and Polyethylene Glycol: Hydrodynamic Radius and Shape Anisotropy. Biophysical Journal 95, 1590–1599 (2008). </span><br>\n",
    "4. <span id=\"fn4\"> H. J. C. Berendsen, J. R. Grigera, T. P. Straatsma, The missing term in effective pair potentials. J. Phys. Chem. 91, 6269–6271 (1987). </span><br>\n",
    "5. <span id=\"fn5\"> T. Křížek, et al., Electrophoretic mobilities of neutral analytes and electroosmotic flow markers in aqueous solutions of Hofmeister salts. ELECTROPHORESIS 35, 617–624 (2014). </span><br>\n",
    "6. <span id=\"fn6\"> J. Heyda, J. C. Vincent, D. J. Tobias, J. Dzubiella, P. Jungwirth, Ion Specificity at the Peptide Bond: Molecular Dynamics Simulations of N-Methylacetamide in Aqueous Salt Solutions. J. Phys. Chem. B 114, 1213–1220 (2009). </span><br>\n",
    "7. <span id=\"fn7\"> Z. Zhang, X. Liu, K. Yan, M. E. Tuckerman, J. Liu, Unified Efficient Thermostat Scheme for the Canonical Ensemble with Holonomic or Isokinetic Constraints via Molecular Dynamics. J. Phys. Chem. A 123, 6056–6079 (2019). </span><br>\n",
    "8. <span id=\"fn8\"> K.-H. Chow, D. M. Ferguson, Isothermal-isobaric molecular dynamics simulations with Monte Carlo volume sampling. Computer Physics Communications 91, 283–289 (1995). </span><br>\n",
    "9. <span id=\"fn9\"> J. Åqvist, P. Wennerström, M. Nervall, S. Bjelic, B. O. Brandsdal, Molecular dynamics simulations of water and biomolecules with a Monte Carlo constant pressure algorithm. Chemical Physics Letters 384, 288–294 (2004). </span><br>\n",
    "10. <span id=\"fn10\"> R. T. McGibbon, et al., MDTraj: A Modern Open Library for the Analysis of Molecular Dynamics Trajectories. Biophysical Journal 109, 1528–1532 (2015) </span><br>\n",
    "11. <span id=\"fn11\"> S. Sakuraba, N. Matubayasi, Ermod: Fast and versatile computation software for solvation free energy with approximate theory of solutions. J. Comput. Chem. 35, 1592–1608 (2014). </span><br>\n",
    "\n",
    "\n",
    "## Import of Python Modules & Auxiliary Functions"
   ]
  },
  {
   "cell_type": "code",
   "execution_count": 1,
   "id": "828e574c",
   "metadata": {},
   "outputs": [
    {
     "name": "stderr",
     "output_type": "stream",
     "text": [
      "Warning: importing 'simtk.openmm' is deprecated.  Import 'openmm' instead.\n"
     ]
    },
    {
     "name": "stdout",
     "output_type": "stream",
     "text": [
      "/home/usr6/r70276b/PEO-Solubility\n"
     ]
    },
    {
     "data": {
      "text/plain": [
       "<Figure size 432x288 with 0 Axes>"
      ]
     },
     "metadata": {},
     "output_type": "display_data"
    }
   ],
   "source": [
    "#Notebook dependent libs\n",
    "import math\n",
    "import numpy as np\n",
    "import matplotlib.pyplot as plt\n",
    "import matplotlib.patches as mpatches\n",
    "import matplotlib.lines as mlines\n",
    "from matplotlib.ticker import (MultipleLocator, AutoMinorLocator)\n",
    "import mdtraj as md\n",
    "import parmed as pmd\n",
    "import os, time, re, yaml, string\n",
    "import scipy.stats as stats\n",
    "from uncertainties import unumpy\n",
    "\n",
    "from Auxiliary import fessa\n",
    "plt.set_cmap('fessa')\n",
    "\n",
    "kcal_to_kT = 1.688 # Assuming 298.15 K\n",
    "\n",
    "ERMODHOME = '/home/usr6/r70276b/ermod-0.3.7'\n",
    "homedir = !pwd\n",
    "homedir = homedir[0]\n",
    "print(homedir)"
   ]
  },
  {
   "cell_type": "markdown",
   "id": "2ee47ddc",
   "metadata": {},
   "source": [
    "### Simulation settings"
   ]
  },
  {
   "cell_type": "code",
   "execution_count": 2,
   "id": "70032e2e",
   "metadata": {},
   "outputs": [],
   "source": [
    "# State of simulations, (outFreq is steps per frame)\n",
    "states = {\n",
    "          'conf':{'Nsteps': 100000000, 'OutFreq': 5000}, # 200 nanoseconds, 20000 frames\n",
    "          'sol': {'Nsteps': 50000000,  'OutFreq': 1000}, # 100 nanoseconds, 50000 frames\n",
    "          'ref': {'Nsteps': 12500000,  'OutFreq': 2500}, # 50 nanoseconds,   5000 frames\n",
    "         }\n",
    "\n",
    "nmers = [2, 4, 6, 8, 15, 36] \n",
    "NConfs = 25\n",
    "\n",
    "salts = {\n",
    "         'No_salt': {'Cation': 'No_', 'Anion': 'salt' },\n",
    "         'NaCl'   : {'Cation': 'Na' , 'Anion': 'Cl'   },\n",
    "#         'CsCl'   : {'Cation': 'Cs' , 'Anion': 'Cl'   },\n",
    "         'NaSCN'  : {'Cation': 'Na' , 'Anion': 'SCN'  },\n",
    "#         'CsSCN'  : {'Cation': 'Cs' , 'Anion': 'SCN'  },\n",
    "        }\n",
    "\n",
    "# Approximate concentrations of salts with\n",
    "concentrations = {\n",
    "                  0.00: {'PEG': 1, 'Water': 10000, 'Cation': 0,   'Anion': 0},\n",
    "                  1.00: {'PEG': 1, 'Water': 10000, 'Cation': 109, 'Anion': 109},\n",
    "#                  2.00: {'PEG': 1, 'Water': 10000, 'Cation': 218, 'Anion': 218},\n",
    "                 }\n",
    "\n",
    "#* Calculated by hand *#\n",
    "# Cube length ≈ 66.95 Ångstroms. Round up to 70 Å and then adjust to correct volume with barostat."
   ]
  },
  {
   "cell_type": "markdown",
   "id": "e24b3138",
   "metadata": {},
   "source": [
    "## Analysis\n",
    "### Prepare ERmod analysis\n",
    "<img style=\"float: right;width:319.5px;height:312.5px;\" src=\"Figures/ermod.png\" title=\"ERmod analysis flow\" />\n",
    "\n",
    "The determination of solvation free energies and chemical potentials though the ERmod software is conducted in two stages as illustrated in the figure. First is the determination of the energy distribution functions from the simulation trajectories obtained from molecular dynamics using the subprogram `ermod`. Second is the solvation free energy is determined from the energy distribution functions though an approximate functional using the subprogram `slvfe`.\n",
    "\n",
    "Documentation for the parameter file `parameters_er` which determines how the `ermod` subprogram runs can be found [here](https://sourceforge.net/p/ermod/wiki/parameters-ermod03/). In the python code below it can be noted many of the parameters has been given the keyword `[correct]`, these settings are dependent on the simulation settings and or the software being used and are thus recommended not to be changed if using the openMM setup above. The parameters given the keyword `[to be set]` are settings either collected from the output of the openMM script or set by the user, in specific the values for `maxins` and `engdiv` should be given by the user are given the default value of 1000 and 5 respectively.\n",
    "\n",
    "Documentation for the parameter file `parameters_fe` which determines how the `slvfe` subprogram runs can be found [here](https://sourceforge.net/p/ermod/wiki/parameters-slvfe/). It is recommended not to change the parameters in this file with the exception of the temperature if conducting simulations at other temperatures than 298.15 Kelvin, and the volume. In the code below the average volume input is calculated as an average volume from the two ensemble volume averages."
   ]
  },
  {
   "cell_type": "code",
   "execution_count": 3,
   "id": "ff2064c5",
   "metadata": {},
   "outputs": [],
   "source": [
    "# ERmod settings\n",
    "state_parameters = {\n",
    "    'refs': {'state': 2, 'Ninserts': 200, 'Ndivisions': 5},\n",
    "    'soln': {'state': 1, 'Ninserts': 200, 'Ndivisions': 10}\n",
    "}\n",
    "\n",
    "ermod_script = \"\"\"\n",
    "&ene_param\n",
    "      slttype = {state},     ! Choose system; 1: Solution system  2,3: Reference                     [to be set]\n",
    "      boxshp = 1,            ! Boxtype                                                               [correct]   \n",
    "      estype = 2,            ! Ensemble; 1: NVT   2: NPT                                             [correct]   \n",
    "      inptemp = 298.15,      ! Temperature (in Kelvin)                                               [correct]   \n",
    "      ljformat = 5,          ! LJ form                                                               [correct]   \n",
    "      cmbrule = 1,           ! Combination rule                                                      [correct]   \n",
    "      ljswitch = 1,          ! Switching function for smooth LJ truncation                           [correct]   \n",
    "      upljcut = 12,          ! Upper limit for LJ cutoff switching function (in Angstrom)            [correct]   \n",
    "      lwljcut = 10,          ! Lower limit for LJ cutoff switching function (in Angstrom)            [correct]   \n",
    "      cltype = 2,            ! Treatment of Coulomb interaction (2=PME)                              [correct]   \n",
    "      elecut = 12.0,         ! Cutoff of the real-space electrostatic interaction (in angstrom)      [correct]   \n",
    "      ewtoler = 0.00001,     ! Error tolerance in Ewald                                              [correct]   \n",
    "      splodr = 5,            ! Order of spline function used in PME                                  [correct]   \n",
    "      ms1max = {PMEnodes_x}, ! Number of meshes in PME (x)                                           [to be set] \n",
    "      ms2max = {PMEnodes_y}, ! Number of meshes in PME (y)                                           [to be set] \n",
    "      ms3max = {PMEnodes_z}, ! Number of meshes in PME (z)                                           [to be set] \n",
    "      maxins = {Ninserts},   ! Number of inserts (chosen freely, for reference ONLY)                 [to be set] \n",
    "      engdiv = {Ndivisions}, ! Number of divisions of the total simulation length (chosen freely)    [to be set] \n",
    "/\n",
    "&hist\n",
    "      eclbin=5.0e-2, ecfbin=2.0e-3, ec0bin=2.0e-4, finfac=10.0e0,\n",
    "      ecdmin=-160.00, ecfmns=-0.20e0, ecdcen=0.0e0, eccore=55.0e0,\n",
    "      ecdmax=1.0e11, pecore=200\n",
    "/\n",
    "\"\"\"\n",
    "    \n",
    "slvfe_script = \"\"\"\n",
    "&fevars\n",
    "clcond    = \"merge\",       ! Calculation type, \"merge\" / \"basic\" / \"range\"\n",
    "numsln    = {Nsol_blocks}, ! Number of trajectory blocks in solution system\n",
    "numref    = {Nref_blocks}, ! Number of trajectory blocks in reference system\n",
    "numdiv    = {Nsol_blocks}, ! Number of division for statistics, usually set equal to numsln\n",
    "avevolume = {avgV},        ! Average volume sampled in simulation (in Angstrom^3)\n",
    "\n",
    "ljlrc     = 'yes',         ! Long-range correction of the Lennard-Jones interaction (avevolume must be specified)\n",
    "uvread    = \"yes\",         ! \"not\" if average solute-solvent energy is calculated from engsln, instead of aveuv.tt\n",
    "slfslt    = \"yes\",         ! \"not\" if the solute self energy is not read\n",
    "infchk    = \"yes\",         ! Enable error analysis for the logarithmic-mesh part\n",
    "inptemp   = 298.15,        ! Input Temperature in Kelvin\n",
    "cumuint   = 'yes',         ! Enable running integral calculations.\n",
    "/\n",
    "\"\"\""
   ]
  },
  {
   "cell_type": "markdown",
   "id": "4429abbc",
   "metadata": {},
   "source": [
    "### Generate ERmod Files\n",
    "The following cell is fairly complicated and uses a mix of bash and python. While ERmod provides tools to assist in the construction of input files based on many popular molecular dynamics packages log files openMM is still yet to be supported. In the following we manually create the files. The steps are as follow:\n",
    "1. Use the ERmod's `gen_structure` script to generate non-complete input scripts as well as the folders `refs` and `soln` containing pair-energy distributions at $\\lambda=0$ and $\\lambda=1$ respectively.\n",
    "2. For soln and refs: Construct a `parameter_er` file as previously described, with updated PME parameters.\n",
    "3. For soln and refs: Edit the MDinfo file containing the number of frames in the solution and reference state.\n",
    "4. For soln and refs: Create a symlink named `HISTORY` linking to the joint trajectory for the solution and reference state.\n",
    "5. For refs: Create a symlink named `SltConf` linking to the isolated trajectory of PEO. The conformational enemble of PEO can be controlled with the parameter `confEnsemble` taking the values `solvated` or `vacuum`.\n",
    "6. Create the `parameters_fe` file with the main edit being the average volume sampled at $\\lambda=1$ for long-range correction of Lennard-Jones interactions."
   ]
  },
  {
   "cell_type": "code",
   "execution_count": null,
   "id": "dd9c568b",
   "metadata": {
    "scrolled": true
   },
   "outputs": [],
   "source": [
    "%cd -q $homedir\n",
    "for nmer in nmers:\n",
    "    nmerdir = 'PEG{}mer'.format(nmer)\n",
    "    for saltdir, salt in salts.items():\n",
    "        for conc, Nparticles in concentrations.items():\n",
    "            concdir = '{0:.2f}'.format(conc)\n",
    "            for conf in range(NConfs):\n",
    "                if conc == 0 and saltdir == 'No_salt':\n",
    "                    WORKDIR = '{homedir}/Simulations/{nmerdir}/{saltdir}/{conf}'.format(homedir=homedir, nmerdir=nmerdir, saltdir=saltdir, conf=conf)\n",
    "                    REFDIR  = '{homedir}/Simulations/References/{saltdir}'.format(homedir=homedir, saltdir=saltdir)\n",
    "                elif conc != 0 and saltdir == 'No_salt':\n",
    "                    continue\n",
    "                else:\n",
    "                    WORKDIR = '{homedir}/Simulations/{nmerdir}/{saltdir}/{concdir}/{conf}'.format(homedir=homedir, nmerdir=nmerdir, saltdir=saltdir, concdir=concdir, conf=conf)\n",
    "                    REFDIR  = '{homedir}/Simulations/References/{saltdir}/{concdir}'.format(homedir=homedir, saltdir=saltdir, concdir=concdir,)\n",
    "                %cd -q $WORKDIR\n",
    "                \n",
    "                topname = '../PEG_{nmer}_{salt}.parm7'.format(nmer=nmer, salt=saltdir)\n",
    "                !echo 1 | /usr/bin/python2 $ERMODHOME/tools/AMBER/gen_structure --top $topname\n",
    "                \n",
    "                PEG = pmd.load_file('PEG_structure.pdb'.format(nmer=nmer, salt=saltdir))\n",
    "    \n",
    "                #########\n",
    "                # ERMOD #\n",
    "                #########\n",
    "                for ermodstate in ['soln', 'refs']:\n",
    "                    %cd -q $WORKDIR/$ermodstate\n",
    "            \n",
    "                    with open('../run.out', 'r') as logfile:\n",
    "                        lines = logfile.readlines()\n",
    "                    logfile.close()\n",
    "                    index = [idx for idx, s in enumerate(lines) if 'PARTICLE MESH EWALD PARAMETERS' in s][0]\n",
    "                    PME_spacing = re.findall(\"([0-9]+[,.]+[0-9]+)\", lines[index+1])\n",
    "                    N_gridpoints = (*re.findall(\"([0-9]+)\", lines[index+2]),\n",
    "                                    *re.findall(\"([0-9]+)\", lines[index+3]),\n",
    "                                    *re.findall(\"([0-9]+)\", lines[index+4]))\n",
    "            \n",
    "                    parameters = state_parameters[ermodstate]\n",
    "                    with open('parameters_er', 'w') as f:\n",
    "                        f.write(ermod_script.format(state=parameters['state'], Ninserts=parameters['Ninserts'], Ndivisions=parameters['Ndivisions'],\n",
    "                                                    PMEnodes_x=N_gridpoints[0], PMEnodes_y=N_gridpoints[1], PMEnodes_z=N_gridpoints[2]))\n",
    "            \n",
    "                    with open('MDinfo', 'r+') as f:\n",
    "                        lines = f.readlines()\n",
    "                        num_frames =  int(states[ermodstate[:3]]['Nsteps']/states[ermodstate[:3]]['OutFreq'])\n",
    "                        lines[0] = lines[0].replace('FRAMES', str(num_frames))\n",
    "                        f.seek(0)\n",
    "                        f.truncate()\n",
    "                        for line in lines:\n",
    "                            f.write(line)\n",
    "                    f.close()\n",
    "                    \n",
    "                    with open('SltAtomGroup', 'w') as f:\n",
    "                        for residue in PEG.residues:\n",
    "                            indexes = []\n",
    "                            for atom in residue.atoms:\n",
    "                                indexes.append(atom.idx+1)\n",
    "                            f.write(\" \".join(map(str, indexes))+'\\n')\n",
    "                    f.close()\n",
    "                    \n",
    "                    if ermodstate == 'soln':\n",
    "                        !ln -s $WORKDIR/trajectory.xtc HISTORY\n",
    "            \n",
    "                    if ermodstate == 'refs':\n",
    "                        !ln -s $REFDIR/trajectory.xtc HISTORY\n",
    "                        !sed -e 1,3d ../PEG_structure.pdb > structure.pdb\n",
    "                        !awk '{print $7 \"\\t\" $8 \"\\t\" $9}' structure.pdb > structure\n",
    "                        !paste SltInfo structure > SltInfo_new\n",
    "                        !mv SltInfo_new SltInfo\n",
    "                \n",
    "                #########\n",
    "                # SLVFE #\n",
    "                #########\n",
    "                %cd -q $WORKDIR\n",
    "                vol_data = np.loadtxt('{dirc}/output.dat'.format(dirc=REFDIR), usecols=4, skiprows=1)\n",
    "                avgVolume = vol_data.mean()*1000\n",
    "                with open('parameters_fe', 'w') as f:\n",
    "                    f.write(slvfe_script.format(Nsol_blocks=state_parameters['soln']['Ndivisions'],\n",
    "                                            Nref_blocks=state_parameters['refs']['Ndivisions'],\n",
    "                                            avgV=avgVolume))\n",
    "                print('Wrote ERmod analysis files to '+os.getcwd())"
   ]
  },
  {
   "cell_type": "markdown",
   "id": "472ea1cb",
   "metadata": {},
   "source": [
    "### Submit ERmod analysis\n",
    "Submit script for servers employing job scheduling. The below example is utilizing PBS (for a quick guide see [here](https://latisresearch.umn.edu/creating-a-PBS-script)). However the code below may be edited to utilize Slurm instead (documentation [here](https://slurm.schedmd.com)) by changing the variable `submit_script` and by executing the commands `!sbatch submit_ermod.pbs` instead of `qsub`."
   ]
  },
  {
   "cell_type": "code",
   "execution_count": null,
   "id": "1b393371",
   "metadata": {
    "scrolled": true
   },
   "outputs": [],
   "source": [
    "submit_script=\"\"\"#!/bin/bash\n",
    "#PJM -L \\\"rscunit=ito-a\"\n",
    "#PJM -L \\\"rscgrp=ito-ss\"\n",
    "#PJM -L \\\"vnode=1\"\n",
    "#PJM -L \\\"vnode-core=36\"\n",
    "#PJM -L \\\"elapse=12:00:00\"\n",
    "#PJM -e ermod.err\n",
    "#PJM -o ermod.out\n",
    "\n",
    "source ~/.bashrc\n",
    "source ~/.bash_profile\n",
    "\n",
    "export ERMOD=/home/usr6/r70276b/ermod-0.3.7\n",
    "export ERMOD_PLUGINS=/home/usr6/r70276b/ermod-0.3.7/vmdplugins/libexec\n",
    "\n",
    "PATH=$PATH:/work/ERCINCR/stefan/ermod-0.3.7\n",
    "export PATH\n",
    "\n",
    "sleep 13\n",
    "\n",
    "cd {path}\n",
    "\n",
    "# Calculate solvation energy\n",
    "# Solution step\n",
    "cd soln\n",
    "mpirun -np 24 ermod\n",
    "cd ..\n",
    "\n",
    "# Reference step\n",
    "cd refs\n",
    "mpirun -np 24 ermod\n",
    "cd ..\n",
    "\n",
    "slvfe\n",
    "\"\"\"\n",
    "\n",
    "%cd -q $homedir\n",
    "for nmer in nmers:\n",
    "    nmerdir = 'PEG{}mer'.format(nmer)\n",
    "    for saltdir, salt in salts.items():\n",
    "        for conc, Nparticles in concentrations.items():\n",
    "            concdir = '{0:.2f}'.format(conc)\n",
    "            for conf in range(NConfs):\n",
    "                if conc == 0 and saltdir == 'No_salt':\n",
    "                    WORKDIR = '{homedir}/Simulations/{nmerdir}/{saltdir}/{conf}'.format(homedir=homedir, nmerdir=nmerdir, saltdir=saltdir, conf=conf)\n",
    "                elif conc != 0 and saltdir == 'No_salt':\n",
    "                    continue\n",
    "                else:\n",
    "                    WORKDIR = '{homedir}/Simulations/{nmerdir}/{saltdir}/{concdir}/{conf}'.format(homedir=homedir, nmerdir=nmerdir, saltdir=saltdir, concdir=concdir, conf=conf)\n",
    "                %cd -q $WORKDIR\n",
    "                \n",
    "                with open('submit_ermod.pbs', 'w') as text_file:\n",
    "                    text_file.write(submit_script.format(path=WORKDIR))\n",
    "                !pjsub submit_ermod.pbs\n",
    "                time.sleep(1)"
   ]
  },
  {
   "cell_type": "markdown",
   "id": "d061b5e7",
   "metadata": {},
   "source": [
    "## Solvation Free Energies: Effect of PEO Polymerization\n",
    "We will start the analysis by visualizing the trend of the solvation free energy against the polymer length of PEO in water. This is to establish if a possible regression model can be used later on to analyze the effect of salt. The solvation free energies from ERmod are stored in the files named `ermod.out` and be found in the various simulation directories.\n",
    "\n",
    "### Polyethylene glycol solvation energy and polymer length in water"
   ]
  },
  {
   "cell_type": "code",
   "execution_count": 4,
   "id": "b92cd178",
   "metadata": {},
   "outputs": [
    {
     "name": "stdout",
     "output_type": "stream",
     "text": [
      "Linear statistics:\n",
      "Slope: -2.512 ± 0.038 kcal/mol.\n",
      "Intercept: -2.864 ± 0.635 kcal/mol.\n",
      "R²: 0.9991\n",
      "p-value: 3.275288e-07\n"
     ]
    },
    {
     "data": {
      "image/png": "[encoded data removed]",
      "text/plain": [
       "<Figure size 432x324 with 1 Axes>"
      ]
     },
     "metadata": {
      "needs_background": "light"
     },
     "output_type": "display_data"
    }
   ],
   "source": [
    "%cd -q $homedir\n",
    "fig, ax = plt.subplots(figsize=(6,4.5))\n",
    "\n",
    "slvfe = np.zeros(shape=(len(nmers), len(salts), NConfs))\n",
    "slvfe_err = np.zeros(shape=(len(nmers), len(salts), NConfs))\n",
    "\n",
    "for i, nmer in enumerate(nmers):\n",
    "    nmerdir = 'PEG{}mer'.format(nmer)\n",
    "    for j, condition in enumerate(['No_salt', 'NaSCN/1.00', 'NaCl/1.00']):\n",
    "        for conf in range(NConfs):\n",
    "            with open('Simulations/{nmer}/{condition}/{conf}/ermod.out'.format(nmer=nmerdir, condition=condition, conf=conf)) as f:\n",
    "                lines = f.readlines()\n",
    "            f.close()\n",
    "            for lineNR, line in enumerate(lines):\n",
    "                if \"cumulative average & 95% error for solvation free energy\" in line:\n",
    "                    slvfe[i,j,conf] = (float(lines[lineNR+10].split()[1]))\n",
    "                    slvfe_err[i,j,conf] = (float(lines[lineNR+10].split()[2]))\n",
    "                    break\n",
    "                    \n",
    "slvfe = unumpy.uarray(slvfe, slvfe_err)\n",
    "\n",
    "sims, = ax.plot(nmers, unumpy.nominal_values(slvfe.mean(axis=2)[:,0]), marker='o', linestyle='None', color='C0')\n",
    "\n",
    "ax.set_xlabel('PEO polymer length', fontsize=16)\n",
    "ax.set_ylabel('Solvation free energy,\\n$\\Delta G_{\\mathrm{sol}}$, [kcal/mol]', fontsize=16)\n",
    "ax.tick_params(axis='both', which='major', labelsize=12)\n",
    "ax.spines['right'].set_visible(False)\n",
    "ax.spines['top'].set_visible(False)\n",
    "\n",
    "s = stats.linregress(np.array(nmers),  unumpy.nominal_values(slvfe.mean(axis=2)[:,0]))\n",
    "print('Linear statistics:\\nSlope: {:.3f} ± {:.3f} kcal/mol.\\nIntercept: {:.3f} ± {:.3f} kcal/mol.\\nR²: {:.4f}\\np-value: {:e}'.format(s.slope, s.stderr, s.intercept, s.intercept_stderr, s.rvalue**2, s.pvalue))\n",
    "linregress = ax.plot(np.arange(-1, 50, 0.1), s.intercept+np.arange(-1, 50, 0.1)*s.slope, 'C1')\n",
    "linregress_err = ax.fill_between(np.arange(-1, 50, 0.1), y1=(s.intercept+s.intercept_stderr)+np.arange(-1, 50, 0.1)*(s.slope+s.stderr),\n",
    "                                                        y2=(s.intercept-s.intercept_stderr)+np.arange(-1, 50, 0.1)*(s.slope-s.stderr), \n",
    "                                 color='C1', alpha=0.1)\n",
    "\n",
    "leg = ax.legend([sims, (linregress[0], linregress_err)], ['Free energy calculation', 'Linear regression'],\n",
    "                loc='upper right', frameon=False, fontsize=14)\n",
    "\n",
    "ax.set_xlim(-0.5, 40)\n",
    "ax.set_ylim(-110, 5)\n",
    "\n",
    "fig.tight_layout()\n",
    "#fig.savefig('Figures/PEG_polymerlength.pdf', bbox_inches='tight')"
   ]
  },
  {
   "cell_type": "markdown",
   "id": "4fc6ba6a",
   "metadata": {},
   "source": [
    "From the figure above it is clear that the solvation free energy varies linearly with the PEO polymer length. Given this knowledge, we can plot the solvation free energy of PEG against the PEO polymer length in the presence of sodium thiocyanate and sodium chloride.\n",
    "\n",
    "### Polyethylene glycol solvation energy and polymer length in salt"
   ]
  },
  {
   "cell_type": "code",
   "execution_count": 5,
   "id": "6d1a33d5",
   "metadata": {},
   "outputs": [
    {
     "name": "stdout",
     "output_type": "stream",
     "text": [
      "Linear statistics: NaCl/1.00\n",
      "    Slope: -2.512 ± 0.038 kcal/mol/monomer.\n",
      "    Intercept: -2.864 ± 0.635 kcal/mol.\n",
      "    R²: 0.9991\n",
      "    p-value: 3.275288e-07\n",
      "\n",
      "Linear statistics: NaCl/1.00\n",
      "    Slope: -2.338 ± 0.027 kcal/mol/monomer.\n",
      "    Intercept: -2.030 ± 0.439 kcal/mol.\n",
      "    R²: 0.9995\n",
      "    p-value: 9.980845e-08\n",
      "\n",
      "Linear statistics: NaCl/1.00\n",
      "    Slope: -2.218 ± 0.035 kcal/mol/monomer.\n",
      "    Intercept: -1.825 ± 0.587 kcal/mol.\n",
      "    R²: 0.9990\n",
      "    p-value: 3.921652e-07\n",
      "\n"
     ]
    },
    {
     "data": {
      "image/png": "[encoded data removed]",
      "text/plain": [
       "<Figure size 432x324 with 1 Axes>"
      ]
     },
     "metadata": {
      "needs_background": "light"
     },
     "output_type": "display_data"
    }
   ],
   "source": [
    "%cd -q $homedir\n",
    "fig, ax = plt.subplots(figsize=(6,4.5))\n",
    "icons = []\n",
    "\n",
    "for i, data in enumerate(slvfe.mean(axis=2).T):\n",
    "    ax.plot(nmers,  unumpy.nominal_values(data), marker='o', linestyle='None', color='C'+str(i))\n",
    "    s = stats.linregress(nmers,  unumpy.nominal_values(data))\n",
    "    linregress = ax.plot(np.arange(-1, 50, 0.1), s.intercept+np.arange(-1, 50, 0.1)*s.slope, color='C'+str(i), alpha=0.5)\n",
    "    linregress_err = ax.fill_between(np.arange(-1, 50, 0.1),\n",
    "                                     y1=(s.intercept+s.intercept_stderr)+np.arange(-1, 50, 0.1)*(s.slope+s.stderr),\n",
    "                                     y2=(s.intercept-s.intercept_stderr)+np.arange(-1, 50, 0.1)*(s.slope-s.stderr),\n",
    "                                     color='C'+str(i), alpha=0.1)\n",
    "    \n",
    "    print('''Linear statistics: {}\n",
    "    Slope: {:.3f} ± {:.3f} kcal/mol/monomer.\n",
    "    Intercept: {:.3f} ± {:.3f} kcal/mol.\n",
    "    R²: {:.4f}\n",
    "    p-value: {:e}\\n'''.format(condition, s.slope, s.stderr, s.intercept, s.intercept_stderr, s.rvalue**2, s.pvalue))\n",
    "    icons.append((linregress[0],linregress_err))\n",
    "    \n",
    "\n",
    "leg = ax.legend(icons, ['Water', 'NaSCN, 1M', 'NaCl, 1M'],\n",
    "                loc='upper right', frameon=False, fontsize=14)\n",
    "\n",
    "ax.set_xlabel('PEO polymer length', fontsize=16)\n",
    "ax.set_ylabel('Solvation free energy,\\n$\\Delta G_{\\mathrm{sol}}$, [kcal/mol]', fontsize=16)\n",
    "ax.tick_params(axis='both', which='major', labelsize=12)\n",
    "ax.spines['right'].set_visible(False)\n",
    "ax.spines['top'].set_visible(False)\n",
    "\n",
    "ax.set_xlim(-0.5, 40)\n",
    "ax.set_ylim(-110, 5)\n",
    "\n",
    "fig.tight_layout()\n",
    "#fig.savefig('Figures/PEG_polymerlength_salt.pdf', bbox_inches='tight')"
   ]
  },
  {
   "cell_type": "markdown",
   "id": "59273efe",
   "metadata": {},
   "source": [
    "It can be observed that the addition of salt still causes the solvation free energy to vary linearly with the PEO polymer length. Furthermore, it is clear that the perturbation by salt is fairly small and thus indicates the importance of errors to separate salt effects from statistical noise.\n",
    "\n",
    "To quantify the change of salt on the solvation free energy we define the difference in solvation free energy as:\n",
    "$$\n",
    "\\Delta \\Delta G_{\\mathrm{sol}} = \\Delta G_{\\mathrm{sol}}(C_{\\mathrm{salt}}) - \\Delta G_{\\mathrm{sol}}(0)\n",
    "$$\n",
    "Below the difference in solvation free energy is visualized as a function of the PEO polymer length.\n",
    "### Difference in solvation free energy upon addition of salt"
   ]
  },
  {
   "cell_type": "code",
   "execution_count": 7,
   "id": "3cff9fb6",
   "metadata": {},
   "outputs": [
    {
     "data": {
      "image/png": "[encoded data removed]",
      "text/plain": [
       "<Figure size 432x324 with 1 Axes>"
      ]
     },
     "metadata": {
      "needs_background": "light"
     },
     "output_type": "display_data"
    }
   ],
   "source": [
    "%cd -q $homedir\n",
    "fig, ax = plt.subplots(figsize=(6,4.5))\n",
    "icons = []\n",
    "\n",
    "Nsamples = state_parameters['soln']['Ndivisions']\n",
    "\n",
    "for i, condition in enumerate(['NaSCN/1.00', 'NaCl/1.00']):\n",
    "    dslvfe = (slvfe.mean(axis=2)[:,i+1] - slvfe.mean(axis=2)[:,0])\n",
    "    errplt = ax.errorbar(nmers, unumpy.nominal_values(dslvfe), yerr=unumpy.std_devs(dslvfe)/np.sqrt(Nsamples),\n",
    "                         marker='o', linestyle='None', color='C'+str(i), alpha=1)\n",
    "    icons.append(errplt)\n",
    "    \n",
    "\n",
    "ax.hlines(0, xmin=0, xmax=40, colors='black', linestyle='dashed', alpha=0.5)\n",
    "\n",
    "leg = ax.legend(icons, ['NaSCN, 1M', 'NaCl, 1M'],\n",
    "                loc='best', frameon=False, fontsize=14)\n",
    "\n",
    "ax.set_xlabel('PEO polymer length', fontsize=16)\n",
    "ax.set_ylabel('Difference in Solvation free energy,\\n$\\Delta\\Delta G_{\\mathrm{sol}}/N_{\\mathrm{PEG}}$, [kcal/mol/monomer]', fontsize=16)\n",
    "ax.tick_params(axis='both', which='major', labelsize=12)\n",
    "ax.spines['right'].set_visible(False)\n",
    "ax.spines['top'].set_visible(False)\n",
    "\n",
    "fig.tight_layout()\n",
    "#fig.savefig('Figures/PEG_polymerlength_salt_difference.pdf', bbox_inches='tight')"
   ]
  },
  {
   "cell_type": "markdown",
   "id": "4f6a7a93",
   "metadata": {},
   "source": [
    "To quantify the change of salt on the solvation free energy per monomer we define the difference in solvation free energy per monomer as:\n",
    "$$\n",
    "\\Delta \\Delta G_{\\mathrm{sol,Monomer}} = \\frac{\\Delta G_{\\mathrm{sol}}(C_{\\mathrm{salt}}) - \\Delta G_{\\mathrm{sol}}(0)}{N_{\\mathrm{PEO}}}\n",
    "$$\n",
    "Below the difference in solvation free energy per monomer is visualized as a function of the PEO polymer length.\n",
    "\n",
    "### Difference in solvation free energy per monomer upon addition of salt"
   ]
  },
  {
   "cell_type": "code",
   "execution_count": 80,
   "id": "d2c56ed2",
   "metadata": {},
   "outputs": [
    {
     "data": {
      "image/png": "[encoded data removed]",
      "text/plain": [
       "<Figure size 432x324 with 1 Axes>"
      ]
     },
     "metadata": {
      "needs_background": "light"
     },
     "output_type": "display_data"
    }
   ],
   "source": [
    "%cd -q $homedir\n",
    "fig, ax = plt.subplots(figsize=(6,4.5))\n",
    "icons = []\n",
    "\n",
    "Nsamples = state_parameters['soln']['Ndivisions']\n",
    "\n",
    "for i, condition in enumerate(['NaSCN/1.00', 'NaCl/1.00']):\n",
    "    dslvfe = (slvfe.mean(axis=2)[:,i+1] - slvfe.mean(axis=2)[:,0])/np.array(nmers)\n",
    "    errplt = ax.errorbar(nmers, unumpy.nominal_values(dslvfe), yerr=unumpy.std_devs(dslvfe)/np.sqrt(Nsamples),\n",
    "                         marker='o', linestyle='None', color='C'+str(i), alpha=1)\n",
    "    icons.append(errplt)\n",
    "    \n",
    "\n",
    "ax.hlines(0, xmin=0, xmax=40, colors='black', linestyle='dashed', alpha=0.5)\n",
    "\n",
    "leg = ax.legend(icons, ['NaSCN, 1M', 'NaCl, 1M'],\n",
    "                loc='best', frameon=False, fontsize=14)\n",
    "\n",
    "ax.set_xlabel('PEO polymer length', fontsize=16)\n",
    "ax.set_ylabel('Difference in Solvation free energy,\\n$\\Delta\\Delta G_{\\mathrm{sol}}/N_{\\mathrm{PEG}}$, [kcal/mol/monomer]', fontsize=16)\n",
    "ax.tick_params(axis='both', which='major', labelsize=12)\n",
    "ax.spines['right'].set_visible(False)\n",
    "ax.spines['top'].set_visible(False)\n",
    "\n",
    "ax.set_xlim(-0.1, 40)\n",
    "ax.set_ylim(-0.15, 0.69)\n",
    "\n",
    "fig.tight_layout()\n",
    "#fig.savefig('Figures/PEG_polymerlength_salt_difference_monomer_scaled.pdf', bbox_inches='tight')"
   ]
  },
  {
   "cell_type": "markdown",
   "id": "72588d31",
   "metadata": {},
   "source": [
    "Normalizing the difference in solvation free energy upon the addition of salt by $N_{\\mathrm{PEO}}$. An alternative, and perhaps more suitable normalization, is to normalize the solvation free energy by the solvent-accessible surface area (SASA) of PEG. We define the difference in solvation free energy per SASA as:\n",
    "$$\n",
    "\\Delta \\Delta G_{\\mathrm{sol,SASA}} = \\frac{\\Delta G_{\\mathrm{sol}}(C_{\\mathrm{salt}}) - \\Delta G_{\\mathrm{sol}}(0)}{\\langle\\mathrm{SASA}_{\\mathrm{PEO, water}}\\rangle}\n",
    "$$\n",
    "Where the SASA is taken as the ensemble average. The SASA of PEO for the individual frames is calculated via the Shrake & Rupley (rolling ball) algorithm. Below the difference in solvation free energy per SASA is visualized as a function of the PEO polymer length.\n",
    "\n",
    "### Difference in solvation free energy per SASA upon addition of salt"
   ]
  },
  {
   "cell_type": "code",
   "execution_count": 81,
   "id": "a5791a8c",
   "metadata": {
    "scrolled": false
   },
   "outputs": [
    {
     "data": {
      "image/png": "[encoded data removed]",
      "text/plain": [
       "<Figure size 432x324 with 1 Axes>"
      ]
     },
     "metadata": {
      "needs_background": "light"
     },
     "output_type": "display_data"
    }
   ],
   "source": [
    "fig, ax = plt.subplots(figsize=(6,4.5))\n",
    "icons = []\n",
    "\n",
    "conditions = ['NaSCN/1.00', 'NaCl/1.00']\n",
    "sasa = np.zeros(shape=(len(nmers), NConfs))\n",
    "\n",
    "# RESEARCH NOTE: MAYBE AVERAGE OVER LONG TRAJECTORY INSTEAD OF THE 25 USED STRUCTURES?\n",
    "for i, nmer in enumerate(nmers):\n",
    "    nmerdir = 'PEG{}mer'.format(nmer)\n",
    "    for conf in range(NConfs):\n",
    "        pdb = md.load_pdb('Simulations/{}/No_salt/{}/refs/structure.pdb'.format(nmerdir, conf))\n",
    "        sasa[i,conf] = md.shrake_rupley(pdb, mode='residue').sum() # SASA calculation can be a bit slow...\n",
    "        \n",
    "# Get to plotting...\n",
    "for i, condition in enumerate(['NaSCN/1.00', 'NaCl/1.00']):\n",
    "    dslvfe = (slvfe.mean(axis=2)[:,i+1] - slvfe.mean(axis=2)[:,0])/sasa.mean(axis=1)\n",
    "    errplt = ax.errorbar(nmers, unumpy.nominal_values(dslvfe), yerr=unumpy.std_devs(dslvfe)/np.sqrt(Nsamples),\n",
    "                         marker='o', linestyle='None', color='C'+str(i), alpha=1)\n",
    "    icons.append(errplt)\n",
    "\n",
    "    \n",
    "ax.hlines(0, xmin=0, xmax=40, colors='black', linestyle='dashed', alpha=0.5)\n",
    "leg = ax.legend(icons, ['NaSCN, 1M', 'NaCl, 1M'],\n",
    "                loc='best', frameon=False, fontsize=14)\n",
    "\n",
    "ax.set_xlabel('PEO polymer length', fontsize=16)\n",
    "ax.set_ylabel('Difference in Solvation free energy,\\n$\\Delta\\Delta G_{\\mathrm{sol}}/\\mathrm{SASA}_{\\mathrm{PEG}}$, [kcal/mol/SASA]', fontsize=16)\n",
    "ax.tick_params(axis='both', which='major', labelsize=12)\n",
    "ax.spines['right'].set_visible(False)\n",
    "ax.spines['top'].set_visible(False)\n",
    "\n",
    "ax.set_xlim(-0.1, 40)\n",
    "ax.set_ylim(-0.15, 0.69)\n",
    "\n",
    "fig.tight_layout()\n",
    "#fig.savefig('Figures/PEG_polymerlength_salt_difference_SASA_scaled.pdf', bbox_inches='tight')"
   ]
  },
  {
   "cell_type": "markdown",
   "id": "928e6d0c",
   "metadata": {},
   "source": [
    "## Solvation Free Energies: Species Decomposition\n",
    "The solvation free energy within the framework of the energy-representation theory of solvation can be written as\n",
    "\\begin{equation}\n",
    "    \\Delta G_{\\mathrm{sol}} = \\Delta G_{\\mathrm{self}} + \\Delta G_{\\mathrm{anion}} + \\Delta G_{\\mathrm{cation}} + \\Delta G_{\\mathrm{water}},\n",
    "    \\label{eq:SolventDecomposition}\n",
    "\\end{equation}\n",
    "where the individual terms constitute the chemical species contribution to the solvation free energy of PEO. The contribution from the anions, cations, and water for the various salt solutions and concentrations can be found in the `ermod.out` files in the various directory.\n",
    "\n",
    "In the following code, we will first inspect the self-energy, being the first term of the previous equation, asserting it to have a minimal contribution to the total solvation free energy. Next, the solvation free energy's variation with PEO length will be investigated.\n",
    "\n",
    "### Polyethylene glycol self-energy"
   ]
  },
  {
   "cell_type": "code",
   "execution_count": null,
   "id": "b4909f11",
   "metadata": {},
   "outputs": [],
   "source": [
    "%cd -q $homedir\n",
    "\n",
    "selfs = []\n",
    "\n",
    "for nmer in nmers:\n",
    "    for saltdir in salts:\n",
    "        for conc in concentrations:\n",
    "            concdir = '{0:.2f}'.format(conc)\n",
    "            if conc == 0 and saltdir == 'No_salt':\n",
    "                fpath = 'Simulations/PEG{}mer/No_salt/ermod.out'.format(nmer)\n",
    "            elif conc != 0 and saltdir == 'No_salt':\n",
    "                continue\n",
    "            else:\n",
    "                fpath = 'Simulations/PEG{}mer/{}/{}/ermod.out'.format(nmer, saltdir, concdir)\n",
    "            \n",
    "            with open(fpath) as f:\n",
    "                lines = f.readlines()\n",
    "            f.close()\n",
    "    \n",
    "            for line in lines:\n",
    "                if \"Self-energy of the solute\" in line:\n",
    "                    selfs.append(float(line.split()[5]))\n",
    "\n",
    "selfs = np.asarray(selfs)\n",
    "print('Mean self-contribution ranges from {:.3} to {:.3} kcal/mol.'\n",
    "      .format(selfs.flatten().min(), selfs.flatten().max()))"
   ]
  },
  {
   "cell_type": "markdown",
   "id": "e3de5fe0",
   "metadata": {},
   "source": [
    "**TEXT BELOW UNFINISHED AS OF 22/07-2022**\n",
    "\n",
    "As we can see the self contribution is overall very small and is thus neglectable for the remainder of the analysis upon conducting the species decomposition.\n",
    "\n",
    "### Solvent decomposition of the solvation free energy of PEO"
   ]
  },
  {
   "cell_type": "code",
   "execution_count": null,
   "id": "64df22d6",
   "metadata": {},
   "outputs": [],
   "source": [
    "fig, ax = plt.subplots(figsize=(6,4.5))\n",
    "\n",
    "slvfe_data = np.zeros(shape=(len(nmers), 8))\n",
    "labels = ['Total', 'SCN⁻', 'Na⁺', 'Water']\n",
    "\n",
    "for i, nmer in enumerate(nmers):\n",
    "    with open('Simulations/PEG{}mer/NaSCN/1.00/ermod.out'.format(nmer)) as f:\n",
    "        lines = f.readlines()\n",
    "    f.close()\n",
    "    for lineNR, line in enumerate(lines):\n",
    "        if \"cumulative average & 95% error for solvation free energy\" in line:\n",
    "            data = lines[lineNR+10].split()[1:]\n",
    "            data = np.array([float(j) for j in data])\n",
    "            slvfe_data[i] = data\n",
    "\n",
    "icons = []\n",
    "for i, species_index in enumerate(range(0, slvfe_data.shape[1], 2)):\n",
    "    ax.errorbar(nmers, slvfe_data.T[species_index], yerr=slvfe_data.T[species_index+1], label=labels[i], marker='o', linestyle='None',\n",
    "                color='C'+str(i))\n",
    "    s = stats.linregress(np.array(nmers), slvfe_data.T[species_index])\n",
    "    linregress = ax.plot(np.arange(-1, 50, 0.1), s.intercept+np.arange(-1, 50, 0.1)*s.slope, color='C'+str(i))\n",
    "    linregress_err = ax.fill_between(np.arange(-1, 50, 0.1), y1=(s.intercept+s.intercept_stderr)+np.arange(-1, 50, 0.1)*(s.slope+s.stderr),\n",
    "                                                        y2=(s.intercept-s.intercept_stderr)+np.arange(-1, 50, 0.1)*(s.slope-s.stderr),\n",
    "                             color='C'+str(i), alpha=0.1)\n",
    "    icons.append((linregress[0],linregress_err))\n",
    "    \n",
    "\n",
    "leg = ax.legend(icons, labels, loc='best', frameon=False, fontsize=14)\n",
    "\n",
    "ax.set_xlim(-0.5, 40)\n",
    "ax.set_ylim(-110, 5)\n",
    "ax.set_xlabel('PEO polymer length', fontsize=16)\n",
    "ax.set_ylabel('Solvation free energy,\\n$\\Delta G_{\\mathrm{sol}}$, [kcal/mol]', fontsize=16)\n",
    "ax.tick_params(axis='both', which='major', labelsize=12)\n",
    "ax.spines['right'].set_visible(False)\n",
    "ax.spines['top'].set_visible(False)\n",
    "\n",
    "\n",
    "fig.savefig('Figures/PEG_polymerlength_solvent_decomposition.pdf', bbox_inches='tight')"
   ]
  },
  {
   "cell_type": "markdown",
   "id": "8541389d",
   "metadata": {},
   "source": [
    "### Species decomposition of the mean solute-solvent interaction variation with salt concentration"
   ]
  },
  {
   "cell_type": "code",
   "execution_count": null,
   "id": "cdbdb40a",
   "metadata": {},
   "outputs": [],
   "source": [
    "fig, ax = plt.subplots(figsize=(6,4.5))\n",
    "\n",
    "avguv = np.zeros(shape=(len(nmers), 3))\n",
    "labels = ['SCN⁻', 'Na⁺', 'Water']\n",
    "\n",
    "for i, nmer in enumerate(nmers):\n",
    "    data = np.loadtxt('Simulations/PEG{}mer/NaSCN/1.00/soln/aveuv.tt'.format(nmer),\n",
    "                      usecols=(1,2,3))\n",
    "    avguv[i] = data.mean(axis=0)\n",
    "\n",
    "\n",
    "icons = []\n",
    "for species_index in range(3):\n",
    "    ax.plot(nmers, avguv.T[species_index], marker='o', linestyle='None', color='C'+str(species_index))\n",
    "    s = stats.linregress(np.array(nmers), avguv.T[species_index])\n",
    "    linregress = ax.plot(np.arange(-1, 50, 0.1), s.intercept+np.arange(-1, 50, 0.1)*s.slope, color='C'+str(species_index))\n",
    "    linregress_err = ax.fill_between(np.arange(-1, 50, 0.1), y1=(s.intercept+s.intercept_stderr)+np.arange(-1, 50, 0.1)*(s.slope+s.stderr),\n",
    "                                                        y2=(s.intercept-s.intercept_stderr)+np.arange(-1, 50, 0.1)*(s.slope-s.stderr),\n",
    "                             color='C'+str(species_index), alpha=0.1)\n",
    "    icons.append((linregress[0],linregress_err))\n",
    "    \n",
    "\n",
    "leg = ax.legend(icons, labels, loc='best', frameon=False, fontsize=14)\n",
    "\n",
    "ax.set_xlim(-0.5, 40)\n",
    "#ax.set_ylim(-110, 5)\n",
    "ax.set_xlabel('PEO polymer length', fontsize=16)\n",
    "ax.set_ylabel(r'Mean pair energy, $\\beta \\langle \\nu \\rangle_{i, \\lambda=1}}$', fontsize=16)\n",
    "ax.tick_params(axis='both', which='major', labelsize=12)\n",
    "ax.spines['right'].set_visible(False)\n",
    "ax.spines['top'].set_visible(False)\n",
    "\n",
    "\n",
    "fig.savefig('Figures/PEG_polymerlength_avguv.pdf', bbox_inches='tight')"
   ]
  },
  {
   "cell_type": "code",
   "execution_count": null,
   "id": "c9783232",
   "metadata": {},
   "outputs": [],
   "source": []
  },
  {
   "cell_type": "code",
   "execution_count": null,
   "id": "432ba8dc",
   "metadata": {},
   "outputs": [],
   "source": []
  },
  {
   "cell_type": "markdown",
   "id": "f0e0ccaa",
   "metadata": {},
   "source": [
    "# RESEARCH NOTES (TO BE DELETED)"
   ]
  },
  {
   "cell_type": "markdown",
   "id": "7ac3743d",
   "metadata": {},
   "source": [
    "$$\n",
    "\\Delta \\Delta G_{\\mathrm{sol,SASA}} = \\frac{\\Delta G_{\\mathrm{sol}}(C_{\\mathrm{salt}})}{\\langle\\mathrm{SASA}_{\\mathrm{PEO, salt}}\\rangle} - \\frac{\\Delta G_{\\mathrm{sol}}(0)}{\\langle\\mathrm{SASA}_{\\mathrm{PEO, water}}\\rangle}\n",
    "$$"
   ]
  },
  {
   "cell_type": "code",
   "execution_count": null,
   "id": "ed4eb283",
   "metadata": {},
   "outputs": [],
   "source": []
  }
 ],
 "metadata": {
  "kernelspec": {
   "display_name": "Python 3 (ipykernel)",
   "language": "python",
   "name": "python3"
  },
  "language_info": {
   "codemirror_mode": {
    "name": "ipython",
    "version": 3
   },
   "file_extension": ".py",
   "mimetype": "text/x-python",
   "name": "python",
   "nbconvert_exporter": "python",
   "pygments_lexer": "ipython3",
   "version": "3.9.12"
  }
 },
 "nbformat": 4,
 "nbformat_minor": 5
}
