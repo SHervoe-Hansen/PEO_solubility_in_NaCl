{
 "cells": [
  {
   "cell_type": "markdown",
   "id": "56b3974b",
   "metadata": {},
   "source": [
    "# Rigorous Thermodynamic Decomposition of Salt Effects on the Polymerization of Polyethylene Glycol\n",
    "Stefan Hervø-Hansen<sup>a,*</sup>, Jan Heyda<sup>b</sup>, and Nobuyuki Matubayasi<sup>a,*</sup>.<br><br>\n",
    "<sup>a</sup> Division of Chemical Engineering, Graduate School of Engineering Science, Osaka University, Toyonaka, Osaka 560-8531, Japan.<br>\n",
    "<sup>b</sup> Department of Physical Chemistry, University of Chemistry and Technology, Prague CZ-16628, Czech Republic<br>\n",
    "<sup>*</sup> To whom correspondence may be addressed nobuyuki@cheng.es.osaka-u.ac.jp and stefan@cheng.es.osaka-u.ac.jp.\n",
    "\n",
    "\n",
    "## Introduction\n",
    "\n",
    "\n",
    "## Methods & Materials\n",
    "\n",
    "\n",
    "## References\n",
    "\n",
    "\n",
    "\n",
    "## Import of Python Modules"
   ]
  },
  {
   "cell_type": "code",
   "execution_count": 1,
   "id": "cf76a5a3",
   "metadata": {},
   "outputs": [
    {
     "name": "stderr",
     "output_type": "stream",
     "text": [
      "Warning: importing 'simtk.openmm' is deprecated.  Import 'openmm' instead.\n"
     ]
    },
    {
     "name": "stdout",
     "output_type": "stream",
     "text": [
      "/data/stefan/PEO-Solubility\n"
     ]
    }
   ],
   "source": [
    "# Notebook dependent libs\n",
    "import parmed as pmd\n",
    "import numpy as np\n",
    "import matplotlib.pyplot as plt\n",
    "import mdtraj as md\n",
    "import os, re, time\n",
    "from shutil import copyfile\n",
    "import pandas as pd\n",
    "from scipy import stats\n",
    "from distutils.spawn import find_executable\n",
    "\n",
    "# Simulation specific libs\n",
    "import sys\n",
    "from simtk.openmm import app\n",
    "import simtk.openmm as mm\n",
    "import openmmtools as mmtools\n",
    "import parmed as pmd\n",
    "\n",
    "# Check for external programs\n",
    "if None in [find_executable('packmol'), find_executable('perl')]:\n",
    "    print('WARNING: External program missing!')\n",
    "    \n",
    "homedir = !pwd\n",
    "homedir = homedir[0]\n",
    "print(homedir)"
   ]
  },
  {
   "cell_type": "code",
   "execution_count": null,
   "id": "ef1a3b75",
   "metadata": {},
   "outputs": [],
   "source": []
  }
 ],
 "metadata": {
  "kernelspec": {
   "display_name": "Python 3 (ipykernel)",
   "language": "python",
   "name": "python3"
  },
  "language_info": {
   "codemirror_mode": {
    "name": "ipython",
    "version": 3
   },
   "file_extension": ".py",
   "mimetype": "text/x-python",
   "name": "python",
   "nbconvert_exporter": "python",
   "pygments_lexer": "ipython3",
   "version": "3.7.9"
  }
 },
 "nbformat": 4,
 "nbformat_minor": 5
}
